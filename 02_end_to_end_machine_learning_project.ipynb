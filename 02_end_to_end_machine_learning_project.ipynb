{
  "cells": [
    {
      "cell_type": "markdown",
      "metadata": {
        "id": "pO7nIgXboyh3"
      },
      "source": [
        "**2장 – 머신러닝 프로젝트 처음부터 끝까지**"
      ]
    },
    {
      "cell_type": "markdown",
      "metadata": {
        "id": "C3G3vBEHoyh6"
      },
      "source": [
        "*머신러닝 부동산 회사에 오신 것을 환영합니다! 여러분이 할 작업은 캘리포니아 지역 주택의 여러 특성을 사용해 중간 가격을 예측하는 것입니다.*"
      ]
    },
    {
      "cell_type": "markdown",
      "metadata": {
        "id": "6gx60XNxoyh6"
      },
      "source": [
        "*이 노트북은 2장의 모든 샘플 코드와 연습 문제 정답을 담고 있습니다.*"
      ]
    },
    {
      "cell_type": "markdown",
      "metadata": {
        "id": "E4Js1hcvoyh6"
      },
      "source": [
        "<table align=\"left\">\n",
        "  <td>\n",
        "    <a href=\"https://colab.research.google.com/github/rickiepark/handson-ml3/blob/main/02_end_to_end_machine_learning_project.ipynb\" target=\"_parent\"><img src=\"https://colab.research.google.com/assets/colab-badge.svg\" alt=\"Open In Colab\"/></a>\n",
        "  </td>\n",
        "</table>"
      ]
    },
    {
      "cell_type": "markdown",
      "metadata": {
        "id": "gEwCPtGwo0gq"
      },
      "source": [
        "*코랩에서 맷플롯립과 판다스 그래프에 한글을 쓰려면 다음 코드의 주석을 제거하고 실행하세요*"
      ]
    },
    {
      "cell_type": "code",
      "execution_count": null,
      "metadata": {
        "id": "UC5-5lZJozoa"
      },
      "outputs": [],
      "source": [
        "# import sys\n",
        "\n",
        "# # 노트북이 코랩에서 실행 중인지 체크합니다.\n",
        "# if 'google.colab' in sys.modules:\n",
        "#     !echo 'debconf debconf/frontend select Noninteractive' | debconf-set-selections\n",
        "#     # 나눔 폰트를 설치합니다.\n",
        "#     !sudo apt-get -qq -y install fonts-nanum\n",
        "#     import matplotlib.font_manager as fm\n",
        "#     font_files = fm.findSystemFonts(fontpaths=['/usr/share/fonts/truetype/nanum'])\n",
        "#     for fpath in font_files:\n",
        "#         fm.fontManager.addfont(fpath)\n",
        "\n",
        "#     # 나눔바른고딕 폰트로 설정합니다.\n",
        "#     import matplotlib.pyplot as plt\n",
        "#     plt.rc('font', family='NanumBarunGothic')\n",
        "#     # 마이너스 기호 표시 오류 수정\n",
        "#     import matplotlib\n",
        "#     matplotlib.rcParams['axes.unicode_minus'] = False"
      ]
    },
    {
      "cell_type": "markdown",
      "metadata": {
        "id": "zzv3HuImoyh7"
      },
      "source": [
        "# 설정"
      ]
    },
    {
      "cell_type": "code",
      "execution_count": 1,
      "metadata": {
        "colab": {
          "base_uri": "https://localhost:8080/"
        },
        "id": "B1rEr4t_oyh7",
        "outputId": "b3fe6c30-86e9-48ed-c62c-b55404fb9198"
      },
      "outputs": [
        {
          "name": "stdout",
          "output_type": "stream",
          "text": [
            "머신러닝 세계에 오신 것을 환영합니다!\n"
          ]
        }
      ],
      "source": [
        "print(\"머신러닝 세계에 오신 것을 환영합니다!\")"
      ]
    },
    {
      "cell_type": "markdown",
      "metadata": {
        "id": "-RYn6aJDoyh8"
      },
      "source": [
        "파이썬 3.7 또는 그 이상이 필요합니다:"
      ]
    },
    {
      "cell_type": "code",
      "execution_count": 2,
      "metadata": {
        "id": "OGI67iQsoyh9"
      },
      "outputs": [],
      "source": [
        "import sys\n",
        "\n",
        "assert sys.version_info >= (3, 7)"
      ]
    },
    {
      "cell_type": "markdown",
      "metadata": {
        "id": "zvasSVEMoyh9"
      },
      "source": [
        "Scikit-Learn ≥1.0.1이 필요합니다:"
      ]
    },
    {
      "cell_type": "code",
      "execution_count": 3,
      "metadata": {
        "id": "A7_ckTtFoyh9"
      },
      "outputs": [],
      "source": [
        "from packaging import version\n",
        "import sklearn\n",
        "\n",
        "assert version.parse(sklearn.__version__) >= version.parse(\"1.0.1\")"
      ]
    },
    {
      "cell_type": "markdown",
      "metadata": {
        "id": "2WyoEfeVoyh-"
      },
      "source": [
        "# 2.3 데이터 가져오기"
      ]
    },
    {
      "cell_type": "markdown",
      "metadata": {
        "id": "Ans_U0Bqoyh-"
      },
      "source": [
        "## 2.3.5 데이터 다운로드하기"
      ]
    },
    {
      "cell_type": "code",
      "execution_count": null,
      "metadata": {
        "id": "paq2wXThoyh-"
      },
      "outputs": [],
      "source": [
        "# 슬라이드 20의 코드\n",
        "from pathlib import Path\n",
        "import pandas as pd \n",
        "import tarfile\n",
        "import urllib.request\n",
        "\n",
        "def load_housing_data():\n",
        "    tarball_path = Path(\"datasets/housing.tgz\")\n",
        "    if not tarball_path.is_file():\n",
        "        Path(\"datasets\").mkdir(parents=True,exist_ok=True)\n",
        "        url = \"https://github.com/ageron/data/raw/main/housing.tgz\"\n",
        "        url\n"
      ]
    },
    {
      "cell_type": "markdown",
      "metadata": {
        "id": "x0DpvFHJoyh-"
      },
      "source": [
        "## 2.3.6 데이터 구조 훑어 보기"
      ]
    },
    {
      "cell_type": "code",
      "execution_count": null,
      "metadata": {
        "colab": {
          "base_uri": "https://localhost:8080/",
          "height": 206
        },
        "id": "eIAt4-Y_oyh-",
        "outputId": "cd44e622-df2f-48b6-ffe4-58a86308add0"
      },
      "outputs": [],
      "source": [
        "# head()\n"
      ]
    },
    {
      "cell_type": "code",
      "execution_count": null,
      "metadata": {
        "colab": {
          "base_uri": "https://localhost:8080/"
        },
        "id": "CauMz5Sloyh_",
        "outputId": "620599a5-a338-476c-9e84-517ce02fd059"
      },
      "outputs": [],
      "source": [
        "# info()\n"
      ]
    },
    {
      "cell_type": "code",
      "execution_count": null,
      "metadata": {
        "colab": {
          "base_uri": "https://localhost:8080/"
        },
        "id": "Js-Nu3Aroyh_",
        "outputId": "882f0eb1-b2dd-4c63-b56d-3477be9df132"
      },
      "outputs": [],
      "source": [
        "# \"ocean_proximity\" 열의 값 세기\n"
      ]
    },
    {
      "cell_type": "code",
      "execution_count": null,
      "metadata": {
        "colab": {
          "base_uri": "https://localhost:8080/",
          "height": 300
        },
        "id": "K1h_Q-kGoyh_",
        "outputId": "6ce89f7c-4e0b-4227-d437-c8b4739eb05e"
      },
      "outputs": [],
      "source": [
        "# describe()\n"
      ]
    },
    {
      "cell_type": "markdown",
      "metadata": {
        "id": "prjn4Byuoyh_"
      },
      "source": [
        "다음 셀은 책에 없습니다. `images/end_to_end_project` 폴더가 없다면 이 폴더를 만들고 고해상도 이미지 저장을 위해 노트북에서 사용할 `save_fig()` 함수를 정의합니다."
      ]
    },
    {
      "cell_type": "code",
      "execution_count": null,
      "metadata": {
        "id": "Io2LHOHXoyh_"
      },
      "outputs": [],
      "source": [
        "# 추가 코드 - 고해상도 PNG 파일로 그래프를 저장하기 위한 코드\n",
        "\n",
        "IMAGES_PATH = Path() / \"images\" / \"end_to_end_project\"\n",
        "IMAGES_PATH.mkdir(parents=True, exist_ok=True)\n",
        "\n",
        "def save_fig(fig_id, tight_layout=True, fig_extension=\"png\", resolution=300):\n",
        "    path = IMAGES_PATH / f\"{fig_id}.{fig_extension}\"\n",
        "    if tight_layout:\n",
        "        plt.tight_layout()\n",
        "    plt.savefig(path, format=fig_extension, dpi=resolution)"
      ]
    },
    {
      "cell_type": "code",
      "execution_count": null,
      "metadata": {
        "colab": {
          "base_uri": "https://localhost:8080/",
          "height": 795
        },
        "id": "Ddodi6YWoyiA",
        "outputId": "6c582b52-9c3e-477f-c30d-2a2f45ca80d8"
      },
      "outputs": [],
      "source": [
        "import matplotlib.pyplot as plt\n",
        "\n",
        "# 추가 코드 – 다음 다섯 라인은 기본 폰트 크기를 지정합니다\n",
        "plt.rc('font', size=14)\n",
        "plt.rc('axes', labelsize=14, titlesize=14)\n",
        "plt.rc('legend', fontsize=14)\n",
        "plt.rc('xtick', labelsize=10)\n",
        "plt.rc('ytick', labelsize=10)\n",
        "\n",
        "# 히스토그램 그리기\n"
      ]
    },
    {
      "cell_type": "markdown",
      "metadata": {
        "id": "BTRHX9M5oyiA"
      },
      "source": [
        "## 2.3.7 테스트 세트 만들기"
      ]
    },
    {
      "cell_type": "code",
      "execution_count": null,
      "metadata": {
        "id": "NxuuBsrHoyiA"
      },
      "outputs": [],
      "source": [
        "# shuffle_and_split_data()\n"
      ]
    },
    {
      "cell_type": "code",
      "execution_count": null,
      "metadata": {
        "colab": {
          "base_uri": "https://localhost:8080/"
        },
        "id": "XfeWU74zoyiA",
        "outputId": "72d1b5d3-b48c-4daa-9fc2-0f8cbc717a0a"
      },
      "outputs": [],
      "source": [
        "\n",
        "# len(train_set)"
      ]
    },
    {
      "cell_type": "code",
      "execution_count": null,
      "metadata": {
        "colab": {
          "base_uri": "https://localhost:8080/"
        },
        "id": "pHJy3bQPoyiA",
        "outputId": "22a4a0e4-6a8a-4ea2-fe6d-763840895e1a"
      },
      "outputs": [],
      "source": [
        "# len(test_set)"
      ]
    },
    {
      "cell_type": "markdown",
      "metadata": {
        "id": "-jK3IcOOoyiA"
      },
      "source": [
        "노트북 실행 결과를 일정하게 유지하기 위해 랜덤 시드를 설정합니다:"
      ]
    },
    {
      "cell_type": "code",
      "execution_count": null,
      "metadata": {
        "id": "Wb0pTu0joyiA"
      },
      "outputs": [],
      "source": [
        "np.random.seed(42)"
      ]
    },
    {
      "cell_type": "markdown",
      "metadata": {
        "id": "P0tUfa6OoyiB"
      },
      "source": [
        "하지만 여러 변동 요인으로 인해 노트북이 책에 실린 것과 완전히 똑같은 출력을 만든다고 보장하지 않습니다. 가장 중요한 요소는 라이브러리가 업데이트되면서 시간이 지나면서 알고리즘이 조금씩 바뀌는 것입니다. 따라서 약간의 차이는 이해해 주세요. 아마도 대부분의 출력은 동일하거나 적어도 같은 범주에 있을 겁니다."
      ]
    },
    {
      "cell_type": "markdown",
      "metadata": {
        "id": "V4Ul0M3RoyiB"
      },
      "source": [
        "Note: 또 다른 무작위성 요소는 파이썬 set의 순서입니다. 파이썬 시작시에 랜덤하게 시드가 부여되는 `hash()` 함수를 기반으로 합니다(DoS 공격을 막기 위해 파이썬 3.3부터 적용되었습니다). 이런 무작위성을 제거하려면 파이썬을 시작하기 _전에_ `PYTHONHASHSEED` 환경 변수를 `\"0\"`으로 설정합니다. 파이썬을 시작한 후에 이를 설정하면 아무런 효과가 없습니다. 다행히 코랩에서 노트북을 실행하면 이 변수가 항상 설정됩니다."
      ]
    },
    {
      "cell_type": "code",
      "execution_count": null,
      "metadata": {
        "id": "Wj1ZyEj7oyiB"
      },
      "outputs": [],
      "source": [
        "from zlib import crc32\n",
        "\n",
        "def is_id_in_test_set(identifier, test_ratio):\n",
        "    return crc32(np.int64(identifier)) < test_ratio * 2**32\n",
        "\n",
        "def split_data_with_id_hash(data, test_ratio, id_column):\n",
        "    ids = data[id_column]\n",
        "    in_test_set = ids.apply(lambda id_: is_id_in_test_set(id_, test_ratio))\n",
        "    return data.loc[~in_test_set], data.loc[in_test_set]"
      ]
    },
    {
      "cell_type": "code",
      "execution_count": null,
      "metadata": {
        "id": "SSuSzR6loyiB"
      },
      "outputs": [],
      "source": [
        "housing_with_id = housing.reset_index()  # `index` 열 추가\n",
        "train_set, test_set = split_data_with_id_hash(housing_with_id, 0.2, \"index\")"
      ]
    },
    {
      "cell_type": "code",
      "execution_count": null,
      "metadata": {
        "id": "0WsonrpkoyiC"
      },
      "outputs": [],
      "source": [
        "housing_with_id[\"id\"] = housing[\"longitude\"] * 1000 + housing[\"latitude\"]\n",
        "train_set, test_set = split_data_with_id_hash(housing_with_id, 0.2, \"id\")"
      ]
    },
    {
      "cell_type": "code",
      "execution_count": null,
      "metadata": {
        "id": "shw3K8vhoyiC"
      },
      "outputs": [],
      "source": [
        "# train_test_split()\n"
      ]
    },
    {
      "cell_type": "code",
      "execution_count": null,
      "metadata": {
        "colab": {
          "base_uri": "https://localhost:8080/"
        },
        "id": "aWbTZ7TjoyiC",
        "outputId": "83f9d254-3c07-4ae1-d109-5d49d2054ac1"
      },
      "outputs": [],
      "source": [
        "test_set[\"total_bedrooms\"].isnull().sum()"
      ]
    },
    {
      "cell_type": "markdown",
      "metadata": {
        "id": "D0RyOMK3oyiD"
      },
      "source": [
        "인구의 여성 비율이 51.1%일 때 1,000명으로 구성된 랜덤 샘플에서 여성이 48.5% 보다 작거나 53.3% 보다 많을 확률을 계산하려면 [이항 분포](https://en.wikipedia.org/wiki/Binomial_distribution)를 사용합니다. 이항 분포의 `cdf()` 메서드는 여성의 수가 주어진 값보다 작거나 같을 확률을 반환합니다."
      ]
    },
    {
      "cell_type": "code",
      "execution_count": null,
      "metadata": {
        "colab": {
          "base_uri": "https://localhost:8080/"
        },
        "id": "04r9_pI_oyiD",
        "outputId": "a96b9d18-67cb-4a3c-b1b8-b3546942d5a0"
      },
      "outputs": [],
      "source": [
        "# 추가 코드 – 나쁜 샘플을 얻을 확률 10.7%를 계산하는 방법\n",
        "\n",
        "from scipy.stats import binom\n",
        "\n",
        "sample_size = 1000\n",
        "ratio_female = 0.511\n",
        "proba_too_small = binom(sample_size, ratio_female).cdf(485 - 1)\n",
        "proba_too_large = 1 - binom(sample_size, ratio_female).cdf(535)\n",
        "print(proba_too_small + proba_too_large)"
      ]
    },
    {
      "cell_type": "markdown",
      "metadata": {
        "id": "VUKaao8ooyiD"
      },
      "source": [
        "수학 대신 시물레이션을 해도 거의 동일한 결과를 얻을 수 있습니다:"
      ]
    },
    {
      "cell_type": "code",
      "execution_count": null,
      "metadata": {
        "colab": {
          "base_uri": "https://localhost:8080/"
        },
        "id": "r29a0icboyiD",
        "outputId": "58c1daa2-33f1-452b-bf10-bceb2a92c0b4"
      },
      "outputs": [],
      "source": [
        "# 추가 코드 – 나쁜 샘플을 얻을 확률을 시물레이션으로 계산 하는 방법\n",
        "\n",
        "np.random.seed(42)\n",
        "\n",
        "samples = (np.random.rand(100_000, sample_size) < ratio_female).sum(axis=1)\n",
        "((samples < 485) | (samples > 535)).mean()"
      ]
    },
    {
      "cell_type": "code",
      "execution_count": null,
      "metadata": {
        "id": "abZvXNlcoyiD"
      },
      "outputs": [],
      "source": [
        "# pd.cut()을 사용한 소득 카테고리 생성\n"
      ]
    },
    {
      "cell_type": "code",
      "execution_count": null,
      "metadata": {
        "colab": {
          "base_uri": "https://localhost:8080/",
          "height": 474
        },
        "id": "KcJ6o6-HoyiH",
        "outputId": "693697a2-95f2-4ddc-96bd-59781f9ca490"
      },
      "outputs": [],
      "source": [
        "# housing_income_cat_bar_plot 그래프를 저장합니다\n",
        "\n",
        "save_fig(\"housing_income_cat_bar_plot\")  # extra code\n",
        "# plt.show()"
      ]
    },
    {
      "cell_type": "code",
      "execution_count": null,
      "metadata": {
        "id": "rAKZ5jfsoyiI"
      },
      "outputs": [],
      "source": [
        "# StratifiedShuffleSplit\n",
        "\n"
      ]
    },
    {
      "cell_type": "code",
      "execution_count": null,
      "metadata": {
        "id": "2u2PTyk5oyiI"
      },
      "outputs": [],
      "source": [
        "# strat_train_set, strat_test_set = strat_splits[0]"
      ]
    },
    {
      "cell_type": "markdown",
      "metadata": {
        "id": "-pnhtmWkoyiI"
      },
      "source": [
        "하나의 계층적 분할을 얻기 위해서는 이 방법이 훨씬 간단합니다:"
      ]
    },
    {
      "cell_type": "code",
      "execution_count": null,
      "metadata": {
        "id": "ExgnlpLKoyiI"
      },
      "outputs": [],
      "source": [
        "# strat_train_set, strat_test_set = train_test_split(\n",
        "#     housing, test_size=0.2, stratify=housing[\"income_cat\"], random_state=42)"
      ]
    },
    {
      "cell_type": "code",
      "execution_count": null,
      "metadata": {
        "colab": {
          "base_uri": "https://localhost:8080/"
        },
        "id": "G4jDpgEwoyiI",
        "outputId": "31593df0-635d-49c8-ca2b-ce9303ab858a"
      },
      "outputs": [],
      "source": [
        "# strat_test_set[\"income_cat\"].value_counts() / len(strat_test_set)"
      ]
    },
    {
      "cell_type": "code",
      "execution_count": null,
      "metadata": {
        "colab": {
          "base_uri": "https://localhost:8080/",
          "height": 238
        },
        "id": "z40-j4uZoyiJ",
        "outputId": "e5507995-d7fc-4cf3-bf49-ce60ebdcd759"
      },
      "outputs": [],
      "source": [
        "# 추가 코드 – 그림 2–10를 생성합니다.\n",
        "\n",
        "def income_cat_proportions(data):\n",
        "    return data[\"income_cat\"].value_counts() / len(data)\n",
        "\n",
        "train_set, test_set = train_test_split(housing, test_size=0.2, random_state=42)\n",
        "\n",
        "compare_props = pd.DataFrame({\n",
        "    \"Overall %\": income_cat_proportions(housing),\n",
        "    \"Stratified %\": income_cat_proportions(strat_test_set),\n",
        "    \"Random %\": income_cat_proportions(test_set),\n",
        "}).sort_index()\n",
        "compare_props.index.name = \"Income Category\"\n",
        "compare_props[\"Strat. Error %\"] = (compare_props[\"Stratified %\"] /\n",
        "                                   compare_props[\"Overall %\"] - 1)\n",
        "compare_props[\"Rand. Error %\"] = (compare_props[\"Random %\"] /\n",
        "                                  compare_props[\"Overall %\"] - 1)\n",
        "(compare_props * 100).round(2)"
      ]
    },
    {
      "cell_type": "code",
      "execution_count": null,
      "metadata": {
        "id": "Ql3DUx_SoyiJ"
      },
      "outputs": [],
      "source": [
        "for set_ in (strat_train_set, strat_test_set):\n",
        "    set_.drop(\"income_cat\", axis=1, inplace=True)"
      ]
    },
    {
      "cell_type": "markdown",
      "metadata": {
        "id": "F65EED0EoyiJ"
      },
      "source": [
        "# 2.4 데이터 이해를 위한 탐색과 시각화"
      ]
    },
    {
      "cell_type": "code",
      "execution_count": null,
      "metadata": {
        "id": "fAe_v-8AoyiJ"
      },
      "outputs": [],
      "source": [
        "housing = strat_train_set.copy()"
      ]
    },
    {
      "cell_type": "markdown",
      "metadata": {
        "id": "_aLC_O1poyiJ"
      },
      "source": [
        "## 2.4.1 지리적 데이터 시각화"
      ]
    },
    {
      "cell_type": "code",
      "execution_count": null,
      "metadata": {
        "colab": {
          "base_uri": "https://localhost:8080/",
          "height": 474
        },
        "id": "8RoDXbdHoyiK",
        "outputId": "8fc59dc1-2e44-43cb-d8c9-80360592d080"
      },
      "outputs": [],
      "source": [
        "# bad_visualization_plot\n",
        "\n",
        "save_fig(\"bad_visualization_plot\")  # extra code\n",
        "# plt.show()"
      ]
    },
    {
      "cell_type": "code",
      "execution_count": null,
      "metadata": {
        "colab": {
          "base_uri": "https://localhost:8080/",
          "height": 474
        },
        "id": "Ey8zjuO0oyiK",
        "outputId": "0c73baf2-b451-462c-cc2b-28d80416bd8b"
      },
      "outputs": [],
      "source": [
        "# better_visualization_plot\n",
        "\n",
        "save_fig(\"better_visualization_plot\")  # extra code\n",
        "# plt.show()"
      ]
    },
    {
      "cell_type": "code",
      "execution_count": null,
      "metadata": {
        "colab": {
          "base_uri": "https://localhost:8080/",
          "height": 694
        },
        "id": "u51GO95soyiK",
        "outputId": "338b94a1-5fa9-4491-969d-d3aa4b45a0af"
      },
      "outputs": [],
      "source": [
        "# housing_prices_scatterplot\n",
        "\n",
        "save_fig(\"housing_prices_scatterplot\")  # extra code\n",
        "# plt.show()"
      ]
    },
    {
      "cell_type": "markdown",
      "metadata": {
        "id": "UPWJEuW7oyiL"
      },
      "source": [
        "다음 셀은 이 장에 있는 첫 번째 그림을 생성합니다(이 코드는 책이 없습니다). 이 그림은 배경에 캘리포니아 이미지를 넣고, 레이블 이름을 바꾸고, 그리드를 삭제하여 이전 그림을 더 멋있게 만든 것입니다."
      ]
    },
    {
      "cell_type": "code",
      "execution_count": null,
      "metadata": {
        "colab": {
          "base_uri": "https://localhost:8080/",
          "height": 712
        },
        "id": "SOcTrDKPoyiL",
        "outputId": "3a2d5201-1c90-4e2f-cb84-2847ddef866c"
      },
      "outputs": [],
      "source": [
        "# 추가 코드 – 이 셀은 이 장의 첫 번째 그림을 생성합니다\n",
        "\n",
        "#  캘리포니아 이미지를 다운로드합니다\n",
        "filename = \"california.png\"\n",
        "if not (IMAGES_PATH / filename).is_file():\n",
        "    homl3_root = \"https://github.com/ageron/handson-ml3/raw/main/\"\n",
        "    url = homl3_root + \"images/end_to_end_project/\" + filename\n",
        "    print(\"Downloading\", filename)\n",
        "    urllib.request.urlretrieve(url, IMAGES_PATH / filename)\n",
        "\n",
        "housing_renamed = housing.rename(columns={\n",
        "    \"latitude\": \"Latitude\", \"longitude\": \"Longitude\",\n",
        "    \"population\": \"Population\",\n",
        "    \"median_house_value\": \"Median house value (ᴜsᴅ)\"})\n",
        "housing_renamed.plot(\n",
        "             kind=\"scatter\", x=\"Longitude\", y=\"Latitude\",\n",
        "             s=housing_renamed[\"Population\"] / 100, label=\"Population\",\n",
        "             c=\"Median house value (ᴜsᴅ)\", cmap=\"jet\", colorbar=True,\n",
        "             legend=True, figsize=(10, 7))\n",
        "\n",
        "california_img = plt.imread(IMAGES_PATH / filename)\n",
        "axis = -124.55, -113.95, 32.45, 42.05\n",
        "plt.axis(axis)\n",
        "plt.imshow(california_img, extent=axis)\n",
        "\n",
        "save_fig(\"california_housing_prices_plot\")\n",
        "plt.show()"
      ]
    },
    {
      "cell_type": "markdown",
      "metadata": {
        "id": "j0IHRseWoyiL"
      },
      "source": [
        "## 2.4.2 상관관계 조사"
      ]
    },
    {
      "cell_type": "code",
      "execution_count": null,
      "metadata": {
        "id": "x8b6iTJRoyiN"
      },
      "outputs": [],
      "source": [
        "# 판다스 1.5버전부터 수치형 데이터만 포함하는지 여부를 결정하는 `numeric_only` 매개변수가 추가되었습니다.\n",
        "# 이 매개변수의 기본값은 `True`입니다.\n",
        "# 판다스 2.0버전에서 기본값이 `False`로 바뀌므로 명시적으로 `numeric_only=True`로 지정합니다.\n",
        "\n",
        "# 슬라이드 37의 코드"
      ]
    },
    {
      "cell_type": "code",
      "execution_count": null,
      "metadata": {
        "colab": {
          "base_uri": "https://localhost:8080/"
        },
        "id": "b93v8op3oyiN",
        "outputId": "314727d9-b5b5-4a28-9883-aa0f77532c42"
      },
      "outputs": [],
      "source": [
        "corr_matrix[\"median_house_value\"].sort_values(ascending=False)"
      ]
    },
    {
      "cell_type": "code",
      "execution_count": null,
      "metadata": {
        "colab": {
          "base_uri": "https://localhost:8080/",
          "height": 794
        },
        "id": "xr48HDzKoyiN",
        "outputId": "f8cda4b5-d5ae-48a4-a77e-b68ff07a083d"
      },
      "outputs": [],
      "source": [
        "# scatter_matrix\n",
        "\n",
        "save_fig(\"scatter_matrix_plot\")  # 추가 코드\n",
        "# plt.show()"
      ]
    },
    {
      "cell_type": "code",
      "execution_count": null,
      "metadata": {
        "colab": {
          "base_uri": "https://localhost:8080/",
          "height": 475
        },
        "id": "aRbtZH_-oyiO",
        "outputId": "ff01fbf6-699c-4df2-f43d-37993936e369"
      },
      "outputs": [],
      "source": [
        "# income_vs_house_value_scatterplot\n",
        "\n",
        "save_fig(\"income_vs_house_value_scatterplot\")  # 추가 코드\n",
        "# plt.show()"
      ]
    },
    {
      "cell_type": "markdown",
      "metadata": {
        "id": "OQb9tJ9OoyiO"
      },
      "source": [
        "## 2.4.3 특성 조합으로 실험"
      ]
    },
    {
      "cell_type": "code",
      "execution_count": null,
      "metadata": {
        "id": "LhpaR1qAoyiO"
      },
      "outputs": [],
      "source": [
        "# 특성 조합으로 새로운 특성 만들기 (슬라이드 44)\n"
      ]
    },
    {
      "cell_type": "code",
      "execution_count": null,
      "metadata": {
        "colab": {
          "base_uri": "https://localhost:8080/"
        },
        "id": "bSXumf1YoyiO",
        "outputId": "4a1a1476-c50e-4a83-c892-e7213036b8f5"
      },
      "outputs": [],
      "source": [
        "corr_matrix = housing.corr(numeric_only=True)\n",
        "corr_matrix[\"median_house_value\"].sort_values(ascending=False)"
      ]
    },
    {
      "cell_type": "markdown",
      "metadata": {
        "id": "iyLcAXu5oyiP"
      },
      "source": [
        "# 2.5 머신러닝 알고리즘을 위한 데이터 준비"
      ]
    },
    {
      "cell_type": "markdown",
      "metadata": {
        "id": "iyHNL_q9oyiP"
      },
      "source": [
        "원본 훈련 세트로 복원하고 타깃을 분리합니다(`strat_train_set.drop()`은 지정한 열을 제외한 `strat_train_set`의 복사본을 만듭니다. `inplace=True`로 지정하지 않은 한 `strat_train_set` 자체를 수정하지 않습니다)."
      ]
    },
    {
      "cell_type": "code",
      "execution_count": null,
      "metadata": {
        "id": "L8S2nBhIoyiP"
      },
      "outputs": [],
      "source": [
        "# median_house_value를 제외한 특성 목록 (슬라이드 45)\n"
      ]
    },
    {
      "cell_type": "markdown",
      "metadata": {
        "id": "J5KCFstgoyiP"
      },
      "source": [
        "## 2.5.1 데이터 정제"
      ]
    },
    {
      "cell_type": "markdown",
      "metadata": {
        "id": "OnRj5XQXoyiP"
      },
      "source": [
        "책에 소개된 세 개의 옵션은 다음과 같습니다:\n",
        "\n",
        "```python\n",
        "housing.dropna(subset=[\"total_bedrooms\"], inplace=True)    # 옵션 1\n",
        "\n",
        "housing.drop(\"total_bedrooms\", axis=1)                     # 옵션 2\n",
        "\n",
        "median = housing[\"total_bedrooms\"].median()                # 옵션 3\n",
        "housing[\"total_bedrooms\"].fillna(median, inplace=True)\n",
        "```\n",
        "\n",
        "각 옵션에 대해 `housing`을 오염시키지 않기 위해 복사본을 만들어 사용합니다. 각 옵션의 출력을 확인하지만 NaN 값을 담고 있는 행은 필터링하겠습니다."
      ]
    },
    {
      "cell_type": "code",
      "execution_count": null,
      "metadata": {
        "colab": {
          "base_uri": "https://localhost:8080/",
          "height": 206
        },
        "id": "q6C2Tts-oyiP",
        "outputId": "7da077a4-a40e-48a4-c696-0275a373a31d"
      },
      "outputs": [],
      "source": [
        "null_rows_idx = housing.isnull().any(axis=1)\n",
        "housing.loc[null_rows_idx].head()"
      ]
    },
    {
      "cell_type": "code",
      "execution_count": null,
      "metadata": {
        "colab": {
          "base_uri": "https://localhost:8080/",
          "height": 53
        },
        "id": "nWXUPPzzoyiQ",
        "outputId": "b51b902b-fedb-413e-a737-1b8178d75482"
      },
      "outputs": [],
      "source": [
        "housing_option1 = housing.copy()\n",
        "\n",
        "housing_option1.dropna(subset=[\"total_bedrooms\"], inplace=True)  # 옵션 1\n",
        "\n",
        "housing_option1.loc[null_rows_idx].head()"
      ]
    },
    {
      "cell_type": "code",
      "execution_count": null,
      "metadata": {
        "colab": {
          "base_uri": "https://localhost:8080/",
          "height": 206
        },
        "id": "okOFRAPOoyiQ",
        "outputId": "4297cc50-790b-4f70-fc26-368072623c73"
      },
      "outputs": [],
      "source": [
        "housing_option2 = housing.copy()\n",
        "\n",
        "housing_option2.drop(\"total_bedrooms\", axis=1, inplace=True)  # 옵션 2\n",
        "\n",
        "housing_option2.loc[null_rows_idx].head()"
      ]
    },
    {
      "cell_type": "code",
      "execution_count": null,
      "metadata": {
        "colab": {
          "base_uri": "https://localhost:8080/",
          "height": 206
        },
        "id": "OWiJuQlUoyiQ",
        "outputId": "b455bcb1-4e36-44d1-9d4d-c7a6f8f7f403"
      },
      "outputs": [],
      "source": [
        "housing_option3 = housing.copy()\n",
        "\n",
        "median = housing[\"total_bedrooms\"].median()\n",
        "housing_option3[\"total_bedrooms\"].fillna(median, inplace=True)  # 옵션 3\n",
        "\n",
        "housing_option3.loc[null_rows_idx].head()"
      ]
    },
    {
      "cell_type": "code",
      "execution_count": null,
      "metadata": {
        "id": "9edSFx9PoyiQ"
      },
      "outputs": [],
      "source": [
        "# SimpleImputer\n"
      ]
    },
    {
      "cell_type": "markdown",
      "metadata": {
        "id": "-NXQyGKyoyiR"
      },
      "source": [
        "`\"median\"` 전략을 사용하기 위해 수치 특성을 분리합니다(`ocean_proximity` 같은 텍스트 특성에서는 계산할 수 없습니다):"
      ]
    },
    {
      "cell_type": "code",
      "execution_count": null,
      "metadata": {
        "id": "g8SMEVsboyiR"
      },
      "outputs": [],
      "source": [
        "# housing_num\n"
      ]
    },
    {
      "cell_type": "code",
      "execution_count": null,
      "metadata": {
        "colab": {
          "base_uri": "https://localhost:8080/",
          "height": 75
        },
        "id": "C5irrRWPoyiR",
        "outputId": "78fd0658-f10f-41e2-f1a4-06869096c06a"
      },
      "outputs": [],
      "source": [
        "# imputer.fit(housing_num)"
      ]
    },
    {
      "cell_type": "code",
      "execution_count": null,
      "metadata": {
        "colab": {
          "base_uri": "https://localhost:8080/"
        },
        "id": "GUYoZhOqoyiR",
        "outputId": "dfd63e23-007e-4655-b1d1-0a83d45466d0"
      },
      "outputs": [],
      "source": [
        "# imputer.statistics_"
      ]
    },
    {
      "cell_type": "markdown",
      "metadata": {
        "id": "6PeU4An_oyiR"
      },
      "source": [
        "각 특성의 중간 값을 수동으로 계산한 것과 같은지 확인해 보세요:"
      ]
    },
    {
      "cell_type": "code",
      "execution_count": null,
      "metadata": {
        "colab": {
          "base_uri": "https://localhost:8080/"
        },
        "id": "FNhdxUvRoyiS",
        "outputId": "aee8757d-e542-4bc4-f111-8d27ca46165f"
      },
      "outputs": [],
      "source": [
        "# housing_num.median().values"
      ]
    },
    {
      "cell_type": "markdown",
      "metadata": {
        "id": "KEP4XZcboyiS"
      },
      "source": [
        "훈련 세트를 변환합니다:"
      ]
    },
    {
      "cell_type": "code",
      "execution_count": null,
      "metadata": {
        "id": "ZPmwJY7poyiS"
      },
      "outputs": [],
      "source": [
        "X = imputer.transform(housing_num)"
      ]
    },
    {
      "cell_type": "code",
      "execution_count": null,
      "metadata": {
        "colab": {
          "base_uri": "https://localhost:8080/"
        },
        "id": "HODad8w8oyiS",
        "outputId": "ea301a7a-c6de-4d28-ad4f-9ed369527b63"
      },
      "outputs": [],
      "source": [
        "imputer.feature_names_in_"
      ]
    },
    {
      "cell_type": "code",
      "execution_count": null,
      "metadata": {
        "id": "SPk7y_INoyiT"
      },
      "outputs": [],
      "source": [
        "housing_tr = pd.DataFrame(X, columns=housing_num.columns,\n",
        "                          index=housing_num.index)"
      ]
    },
    {
      "cell_type": "code",
      "execution_count": null,
      "metadata": {
        "colab": {
          "base_uri": "https://localhost:8080/",
          "height": 206
        },
        "id": "WJkhegNroyiT",
        "outputId": "b1eef925-3aff-45c9-b61f-fd7aced65fca"
      },
      "outputs": [],
      "source": [
        "housing_tr.loc[null_rows_idx].head()"
      ]
    },
    {
      "cell_type": "code",
      "execution_count": null,
      "metadata": {
        "colab": {
          "base_uri": "https://localhost:8080/",
          "height": 36
        },
        "id": "BVTKvTu-oyiT",
        "outputId": "5bf36609-e070-4d5f-fe86-92c7ed0771bf"
      },
      "outputs": [],
      "source": [
        "imputer.strategy"
      ]
    },
    {
      "cell_type": "code",
      "execution_count": null,
      "metadata": {
        "id": "OB8yZjZ1oyiT"
      },
      "outputs": [],
      "source": [
        "housing_tr = pd.DataFrame(X, columns=housing_num.columns,\n",
        "                          index=housing_num.index)"
      ]
    },
    {
      "cell_type": "code",
      "execution_count": null,
      "metadata": {
        "colab": {
          "base_uri": "https://localhost:8080/",
          "height": 206
        },
        "id": "Z7SkqyEJoyiT",
        "outputId": "620c25af-7272-49f7-de8b-ab1a2aeb872d"
      },
      "outputs": [],
      "source": [
        "housing_tr.loc[null_rows_idx].head()  # not shown in the book"
      ]
    },
    {
      "cell_type": "code",
      "execution_count": null,
      "metadata": {
        "id": "xxyBN6XuoyiU"
      },
      "outputs": [],
      "source": [
        "#from sklearn import set_config\n",
        "#\n",
        "# set_config(transform_output=\"pandas\")  # scikit-learn >= 1.2"
      ]
    },
    {
      "cell_type": "markdown",
      "metadata": {
        "id": "6gUYIDdroyiU"
      },
      "source": [
        "이상치를 삭제합니다:"
      ]
    },
    {
      "cell_type": "code",
      "execution_count": null,
      "metadata": {
        "id": "D4Y-hUFeoyiU"
      },
      "outputs": [],
      "source": [
        "from sklearn.ensemble import IsolationForest\n",
        "\n",
        "isolation_forest = IsolationForest(random_state=42)\n",
        "outlier_pred = isolation_forest.fit_predict(X)"
      ]
    },
    {
      "cell_type": "code",
      "execution_count": null,
      "metadata": {
        "colab": {
          "base_uri": "https://localhost:8080/"
        },
        "id": "SdJtLrG-oyiU",
        "outputId": "8ecb96f9-6ecc-4055-b652-8d8b4a9a5da8"
      },
      "outputs": [],
      "source": [
        "outlier_pred"
      ]
    },
    {
      "cell_type": "markdown",
      "metadata": {
        "id": "i5loxsTQoyiU"
      },
      "source": [
        "이상치를 삭제하고 싶다면 다음 코드를 실행하세요:"
      ]
    },
    {
      "cell_type": "code",
      "execution_count": null,
      "metadata": {
        "id": "X8tcOmN2oyiU"
      },
      "outputs": [],
      "source": [
        "#housing = housing.iloc[outlier_pred == 1]\n",
        "#housing_labels = housing_labels.iloc[outlier_pred == 1]"
      ]
    },
    {
      "cell_type": "markdown",
      "metadata": {
        "id": "Irs8vymUoyiW"
      },
      "source": [
        "## 2.5.2 텍스트와 범주형 특성 다루기"
      ]
    },
    {
      "cell_type": "markdown",
      "metadata": {
        "id": "ymzWSn9woyiW"
      },
      "source": [
        "이제 범주형 입력 특성인 `ocean_proximity`을 전처리합니다:"
      ]
    },
    {
      "cell_type": "code",
      "execution_count": null,
      "metadata": {
        "colab": {
          "base_uri": "https://localhost:8080/",
          "height": 300
        },
        "id": "QG0_RXqJoyiW",
        "outputId": "2ab54284-dc0b-496c-bcb7-fc711f51bfe3"
      },
      "outputs": [],
      "source": [
        "housing_cat = housing[[\"ocean_proximity\"]]\n",
        "housing_cat.head(8)"
      ]
    },
    {
      "cell_type": "code",
      "execution_count": null,
      "metadata": {
        "id": "4MxAe8eboyiW"
      },
      "outputs": [],
      "source": [
        "# OrdinalEncoder\n"
      ]
    },
    {
      "cell_type": "code",
      "execution_count": null,
      "metadata": {
        "colab": {
          "base_uri": "https://localhost:8080/"
        },
        "id": "Fx5Libw5oyiX",
        "outputId": "1fb2fac7-17f3-4624-e795-d73a1381705c"
      },
      "outputs": [],
      "source": [
        "housing_cat_encoded[:8]"
      ]
    },
    {
      "cell_type": "code",
      "execution_count": null,
      "metadata": {
        "colab": {
          "base_uri": "https://localhost:8080/"
        },
        "id": "_Vxcg4OkoyiX",
        "outputId": "ef7df07e-1559-4abb-ab53-913f0375f90e"
      },
      "outputs": [],
      "source": [
        "ordinal_encoder.categories_"
      ]
    },
    {
      "cell_type": "code",
      "execution_count": null,
      "metadata": {
        "id": "Aq78qYbvoyiX"
      },
      "outputs": [],
      "source": [
        "# OneHotEncoder"
      ]
    },
    {
      "cell_type": "code",
      "execution_count": null,
      "metadata": {
        "colab": {
          "base_uri": "https://localhost:8080/"
        },
        "id": "ryxEclyHoyiX",
        "outputId": "05fb45a2-95ca-43fd-9424-980d3f795b92"
      },
      "outputs": [],
      "source": [
        "housing_cat_1hot"
      ]
    },
    {
      "cell_type": "markdown",
      "metadata": {
        "id": "UL_qEbLVoyiX"
      },
      "source": [
        "`OneHotEncoder`는 기본적으로 희소 행렬을 반환합니다. 필요하면 `toarray()` 메서드를 사용해 밀집 배열로 변환할 수 있습니다:"
      ]
    },
    {
      "cell_type": "code",
      "execution_count": null,
      "metadata": {
        "colab": {
          "base_uri": "https://localhost:8080/"
        },
        "id": "tmUvqlLGoyiY",
        "outputId": "19d209a8-4342-4473-efb1-81aa0df52ec3"
      },
      "outputs": [],
      "source": [
        "housing_cat_1hot.toarray()"
      ]
    },
    {
      "cell_type": "markdown",
      "metadata": {
        "id": "mNG0V9dPoyiY"
      },
      "source": [
        "또는 `OneHotEncoder`를 만들 때 `sparse=False`로 지정할 수 있습니다:"
      ]
    },
    {
      "cell_type": "code",
      "execution_count": null,
      "metadata": {
        "colab": {
          "base_uri": "https://localhost:8080/"
        },
        "id": "c-_4iVXYoyiY",
        "outputId": "1bbcc62e-a64d-4984-d0c9-3b64664b6441"
      },
      "outputs": [],
      "source": [
        "# 사이킷런 1.2버전에서 `sparse_output` 매개변수가 추가되었고 `sparse` 매개변수는 1.4버전에서 삭제됩니다.\n",
        "# 이에 대한 경고를 피하려면 `sparse_output`을 사용하세요.\n",
        "cat_encoder = OneHotEncoder(sparse_output=False)\n",
        "housing_cat_1hot = cat_encoder.fit_transform(housing_cat)\n",
        "housing_cat_1hot"
      ]
    },
    {
      "cell_type": "code",
      "execution_count": null,
      "metadata": {
        "colab": {
          "base_uri": "https://localhost:8080/"
        },
        "id": "GGZ5mvOPoyiY",
        "outputId": "e4d93ae8-5d06-4bb1-d668-247c07c8767e"
      },
      "outputs": [],
      "source": [
        "cat_encoder.categories_"
      ]
    },
    {
      "cell_type": "code",
      "execution_count": null,
      "metadata": {
        "colab": {
          "base_uri": "https://localhost:8080/",
          "height": 112
        },
        "id": "6TcaSlNfoyiY",
        "outputId": "d3af094f-2b14-4968-963a-ba52e2b2f2bf"
      },
      "outputs": [],
      "source": [
        "df_test = pd.DataFrame({\"ocean_proximity\": [\"INLAND\", \"NEAR BAY\"]})\n",
        "pd.get_dummies(df_test)"
      ]
    },
    {
      "cell_type": "code",
      "execution_count": null,
      "metadata": {
        "colab": {
          "base_uri": "https://localhost:8080/"
        },
        "id": "q-OxRKQooyiZ",
        "outputId": "33539451-7db9-413a-fa6b-0e74be9cf172"
      },
      "outputs": [],
      "source": [
        "cat_encoder.transform(df_test)"
      ]
    },
    {
      "cell_type": "code",
      "execution_count": null,
      "metadata": {
        "colab": {
          "base_uri": "https://localhost:8080/",
          "height": 112
        },
        "id": "L9sWFRW3oyiZ",
        "outputId": "0ed60408-6d71-44e4-f9d7-59953c2f657b"
      },
      "outputs": [],
      "source": [
        "df_test_unknown = pd.DataFrame({\"ocean_proximity\": [\"<2H OCEAN\", \"ISLAND\"]})\n",
        "pd.get_dummies(df_test_unknown)"
      ]
    },
    {
      "cell_type": "code",
      "execution_count": null,
      "metadata": {
        "colab": {
          "base_uri": "https://localhost:8080/"
        },
        "id": "r4J4dyLaoyiZ",
        "outputId": "798e02c3-11bb-492b-9dd1-125e68fd7daf"
      },
      "outputs": [],
      "source": [
        "cat_encoder.handle_unknown = \"ignore\"\n",
        "cat_encoder.transform(df_test_unknown)"
      ]
    },
    {
      "cell_type": "code",
      "execution_count": null,
      "metadata": {
        "colab": {
          "base_uri": "https://localhost:8080/"
        },
        "id": "4Qz09jcboyiZ",
        "outputId": "e81065ba-96a1-4626-e43c-239c7db2fb43"
      },
      "outputs": [],
      "source": [
        "cat_encoder.feature_names_in_"
      ]
    },
    {
      "cell_type": "code",
      "execution_count": null,
      "metadata": {
        "colab": {
          "base_uri": "https://localhost:8080/"
        },
        "id": "03U8EAofoyiZ",
        "outputId": "bd68c59f-d416-40d1-dcc4-ea5c36361291"
      },
      "outputs": [],
      "source": [
        "cat_encoder.get_feature_names_out()"
      ]
    },
    {
      "cell_type": "code",
      "execution_count": null,
      "metadata": {
        "id": "BJfZMwtboyia"
      },
      "outputs": [],
      "source": [
        "df_output = pd.DataFrame(cat_encoder.transform(df_test_unknown),\n",
        "                         columns=cat_encoder.get_feature_names_out(),\n",
        "                         index=df_test_unknown.index)"
      ]
    },
    {
      "cell_type": "code",
      "execution_count": null,
      "metadata": {
        "colab": {
          "base_uri": "https://localhost:8080/",
          "height": 125
        },
        "id": "G0qeFVZToyia",
        "outputId": "7433b4df-7a3c-437c-a945-163ca293e428"
      },
      "outputs": [],
      "source": [
        "df_output"
      ]
    },
    {
      "cell_type": "markdown",
      "metadata": {
        "id": "2jcLr3zLoyia"
      },
      "source": [
        "## 2.5.3 특성 스케일링"
      ]
    },
    {
      "cell_type": "code",
      "execution_count": null,
      "metadata": {
        "id": "Auqpncd8oyia"
      },
      "outputs": [],
      "source": [
        "# MinMaxScalar\n"
      ]
    },
    {
      "cell_type": "code",
      "execution_count": null,
      "metadata": {
        "id": "s3GI6dN6oyia"
      },
      "outputs": [],
      "source": [
        "# StandardScalar\n"
      ]
    },
    {
      "cell_type": "code",
      "execution_count": null,
      "metadata": {
        "colab": {
          "base_uri": "https://localhost:8080/",
          "height": 295
        },
        "id": "_ArErZ9Boyib",
        "outputId": "efb4e67f-1672-4756-ba07-1873efd88ac4"
      },
      "outputs": [],
      "source": [
        "# 추가 코드 – 이 셀은 그림 2–17을 생성합니다\n",
        "fig, axs = plt.subplots(1, 2, figsize=(8, 3), sharey=True)\n",
        "housing[\"population\"].hist(ax=axs[0], bins=50)\n",
        "housing[\"population\"].apply(np.log).hist(ax=axs[1], bins=50)\n",
        "axs[0].set_xlabel(\"Population\")\n",
        "axs[1].set_xlabel(\"Log of population\")\n",
        "axs[0].set_ylabel(\"Number of districts\")\n",
        "save_fig(\"long_tail_plot\")\n",
        "plt.show()"
      ]
    },
    {
      "cell_type": "markdown",
      "metadata": {
        "id": "e4BFeRHKoyib"
      },
      "source": [
        "각 값을 백분위수로 바꾸면 어떻게 될까요?"
      ]
    },
    {
      "cell_type": "code",
      "execution_count": null,
      "metadata": {
        "colab": {
          "base_uri": "https://localhost:8080/",
          "height": 456
        },
        "id": "5mcJhazkoyib",
        "outputId": "d0fde7c7-f11c-44d2-9135-8d43ad4c310d"
      },
      "outputs": [],
      "source": [
        "# 추가 코드 – 균등 분포를 얻는다는 것을 보여줍니다\n",
        "percentiles = [np.percentile(housing[\"median_income\"], p)\n",
        "               for p in range(1, 100)]\n",
        "flattened_median_income = pd.cut(housing[\"median_income\"],\n",
        "                                 bins=[-np.inf] + percentiles + [np.inf],\n",
        "                                 labels=range(1, 100 + 1))\n",
        "flattened_median_income.hist(bins=50)\n",
        "plt.xlabel(\"Median income percentile\")\n",
        "plt.ylabel(\"Number of districts\")\n",
        "plt.show()\n",
        "# Note: 1 백분위수 아래의 소득은 1로 레이블되고 99 백분위수 이상의 값은 100으로 레이블됩니다.\n",
        "# 이 때문에 아래 분포의 범위가 1에서부터 100까지입니다(0에서부터 100까지가 아닙니다)."
      ]
    },
    {
      "cell_type": "code",
      "execution_count": null,
      "metadata": {
        "id": "NvYco7C3oyib"
      },
      "outputs": [],
      "source": [
        "# rbf_kernel (슬라이드 68)\n"
      ]
    },
    {
      "cell_type": "code",
      "execution_count": null,
      "metadata": {
        "colab": {
          "base_uri": "https://localhost:8080/",
          "height": 474
        },
        "id": "TyJUwLZWoyib",
        "outputId": "9ea2b597-826a-4640-a523-08ebc1e0e3be"
      },
      "outputs": [],
      "source": [
        "# 추가 코드 – 이 셀은 그림 2–18을 생성 합니다\n",
        "\n",
        "ages = np.linspace(housing[\"housing_median_age\"].min(),\n",
        "                   housing[\"housing_median_age\"].max(),\n",
        "                   500).reshape(-1, 1)\n",
        "gamma1 = 0.1\n",
        "gamma2 = 0.03\n",
        "rbf1 = rbf_kernel(ages, [[35]], gamma=gamma1)\n",
        "rbf2 = rbf_kernel(ages, [[35]], gamma=gamma2)\n",
        "\n",
        "fig, ax1 = plt.subplots()\n",
        "\n",
        "ax1.set_xlabel(\"Housing median age\")\n",
        "ax1.set_ylabel(\"Number of districts\")\n",
        "ax1.hist(housing[\"housing_median_age\"], bins=50)\n",
        "\n",
        "ax2 = ax1.twinx()  # x축을 공유 하는 쌍둥이 축을 만듭니다\n",
        "color = \"blue\"\n",
        "ax2.plot(ages, rbf1, color=color, label=\"gamma = 0.10\")\n",
        "ax2.plot(ages, rbf2, color=color, label=\"gamma = 0.03\", linestyle=\"--\")\n",
        "ax2.tick_params(axis='y', labelcolor=color)\n",
        "ax2.set_ylabel(\"Age similarity\", color=color)\n",
        "\n",
        "plt.legend(loc=\"upper left\")\n",
        "save_fig(\"age_similarity_plot\")\n",
        "plt.show()"
      ]
    },
    {
      "cell_type": "code",
      "execution_count": null,
      "metadata": {
        "id": "Z3ab_KW3oyib"
      },
      "outputs": [],
      "source": [
        "# LinearRegression\n"
      ]
    },
    {
      "cell_type": "code",
      "execution_count": null,
      "metadata": {
        "colab": {
          "base_uri": "https://localhost:8080/"
        },
        "id": "g_FAFbnaoyid",
        "outputId": "38d42b78-a492-4591-9220-b23897ac571e"
      },
      "outputs": [],
      "source": [
        "predictions"
      ]
    },
    {
      "cell_type": "code",
      "execution_count": null,
      "metadata": {
        "id": "Uy9r4VNboyid"
      },
      "outputs": [],
      "source": [
        "# TransformedTargetRegressor\n"
      ]
    },
    {
      "cell_type": "code",
      "execution_count": null,
      "metadata": {
        "colab": {
          "base_uri": "https://localhost:8080/"
        },
        "id": "ezyygNzSoyid",
        "outputId": "86e738e8-0e16-4941-c979-0ee6b5bbde3d"
      },
      "outputs": [],
      "source": [
        "predictions"
      ]
    },
    {
      "cell_type": "markdown",
      "metadata": {
        "id": "R9xu3rBloyie"
      },
      "source": [
        "## 2.5.4 사용자 정의 변환기"
      ]
    },
    {
      "cell_type": "markdown",
      "metadata": {
        "id": "K_dsmFdvoyie"
      },
      "source": [
        "간단한 변환기를 만들어 보죠:"
      ]
    },
    {
      "cell_type": "code",
      "execution_count": null,
      "metadata": {
        "id": "mSXVkJsSoyie"
      },
      "outputs": [],
      "source": [
        "# FunctionTransformer\n"
      ]
    },
    {
      "cell_type": "code",
      "execution_count": null,
      "metadata": {
        "id": "1EQHfYbboyie"
      },
      "outputs": [],
      "source": [
        "# rbf_transformer = ..."
      ]
    },
    {
      "cell_type": "code",
      "execution_count": null,
      "metadata": {
        "colab": {
          "base_uri": "https://localhost:8080/"
        },
        "id": "70M6Ic3Soyie",
        "outputId": "88e5be77-0865-498a-e2ac-236a5682a074"
      },
      "outputs": [],
      "source": [
        "age_simil_35"
      ]
    },
    {
      "cell_type": "code",
      "execution_count": null,
      "metadata": {
        "id": "EwXEp46Woyif"
      },
      "outputs": [],
      "source": [
        "sf_coords = 37.7749, -122.41\n",
        "sf_transformer = FunctionTransformer(rbf_kernel,\n",
        "                                     kw_args=dict(Y=[sf_coords], gamma=0.1))\n",
        "sf_simil = sf_transformer.transform(housing[[\"latitude\", \"longitude\"]])"
      ]
    },
    {
      "cell_type": "code",
      "execution_count": null,
      "metadata": {
        "colab": {
          "base_uri": "https://localhost:8080/"
        },
        "id": "O8x-l881oyif",
        "outputId": "756a17d3-21a3-4051-b5ec-91c89713f567"
      },
      "outputs": [],
      "source": [
        "sf_simil"
      ]
    },
    {
      "cell_type": "code",
      "execution_count": null,
      "metadata": {
        "colab": {
          "base_uri": "https://localhost:8080/"
        },
        "id": "B8Pt5bHPoyif",
        "outputId": "dda1d9f8-3148-4d08-bd13-f69c35ba0c91"
      },
      "outputs": [],
      "source": [
        "ratio_transformer = FunctionTransformer(lambda X: X[:, [0]] / X[:, [1]])\n",
        "ratio_transformer.transform(np.array([[1., 2.], [3., 4.]]))"
      ]
    },
    {
      "cell_type": "code",
      "execution_count": null,
      "metadata": {
        "id": "0sH3fAzdoyif"
      },
      "outputs": [],
      "source": [
        "# StandardScalarClone\n"
      ]
    },
    {
      "cell_type": "code",
      "execution_count": null,
      "metadata": {
        "id": "_QxXbDy4oyif"
      },
      "outputs": [],
      "source": [
        "# ClusterSimilarity\n"
      ]
    },
    {
      "cell_type": "code",
      "execution_count": null,
      "metadata": {
        "id": "9-OXKpfKoyig"
      },
      "outputs": [],
      "source": [
        "# cluster_simil = ..."
      ]
    },
    {
      "cell_type": "code",
      "execution_count": null,
      "metadata": {
        "colab": {
          "base_uri": "https://localhost:8080/"
        },
        "id": "l4xLpqSloyig",
        "outputId": "f958fc76-1a9c-47b0-e4c7-4ec2553eef97"
      },
      "outputs": [],
      "source": [
        "similarities[:3].round(2)"
      ]
    },
    {
      "cell_type": "code",
      "execution_count": null,
      "metadata": {
        "colab": {
          "base_uri": "https://localhost:8080/",
          "height": 695
        },
        "id": "aku7iZi-oyig",
        "outputId": "026a4a9f-cb5e-43b8-f7eb-366fed32743c"
      },
      "outputs": [],
      "source": [
        "# 추가 코드 – 이 셀은 그림 2–19를 생성합니다\n",
        "\n",
        "housing_renamed = housing.rename(columns={\n",
        "    \"latitude\": \"Latitude\", \"longitude\": \"Longitude\",\n",
        "    \"population\": \"Population\",\n",
        "    \"median_house_value\": \"Median house value (ᴜsᴅ)\"})\n",
        "housing_renamed[\"Max cluster similarity\"] = similarities.max(axis=1)\n",
        "\n",
        "housing_renamed.plot(kind=\"scatter\", x=\"Longitude\", y=\"Latitude\", grid=True,\n",
        "                     s=housing_renamed[\"Population\"] / 100, label=\"Population\",\n",
        "                     c=\"Max cluster similarity\",\n",
        "                     cmap=\"jet\", colorbar=True,\n",
        "                     legend=True, sharex=False, figsize=(10, 7))\n",
        "plt.plot(cluster_simil.kmeans_.cluster_centers_[:, 1],\n",
        "         cluster_simil.kmeans_.cluster_centers_[:, 0],\n",
        "         linestyle=\"\", color=\"black\", marker=\"X\", markersize=20,\n",
        "         label=\"Cluster centers\")\n",
        "plt.legend(loc=\"upper right\")\n",
        "save_fig(\"district_cluster_plot\")\n",
        "plt.show()"
      ]
    },
    {
      "cell_type": "markdown",
      "metadata": {
        "id": "6wWxuIJ3oyig"
      },
      "source": [
        "## 2.5.5 변환 파이프라인"
      ]
    },
    {
      "cell_type": "markdown",
      "metadata": {
        "id": "dkDAvKLxoyig"
      },
      "source": [
        "수치 특성을 전처리하는 파이프라인을 만들어 보겠습니다:"
      ]
    },
    {
      "cell_type": "code",
      "execution_count": null,
      "metadata": {
        "id": "A88fY6gaoyih"
      },
      "outputs": [],
      "source": [
        "# Pipeline\n"
      ]
    },
    {
      "cell_type": "code",
      "execution_count": null,
      "metadata": {
        "id": "qmAxvacOoyih"
      },
      "outputs": [],
      "source": [
        "# make_pipeline"
      ]
    },
    {
      "cell_type": "code",
      "execution_count": null,
      "metadata": {
        "colab": {
          "base_uri": "https://localhost:8080/",
          "height": 126
        },
        "id": "CEx9m92Zoyih",
        "outputId": "37f3a4be-d0c8-404b-a691-60496a1331a9"
      },
      "outputs": [],
      "source": [
        "from sklearn import set_config\n",
        "\n",
        "set_config(display='diagram')\n",
        "\n",
        "num_pipeline"
      ]
    },
    {
      "cell_type": "code",
      "execution_count": null,
      "metadata": {
        "colab": {
          "base_uri": "https://localhost:8080/"
        },
        "id": "9hUoLwcOoyih",
        "outputId": "61985c15-219e-4a61-f8e6-91e4da32020e"
      },
      "outputs": [],
      "source": [
        "housing_num_prepared = num_pipeline.fit_transform(housing_num)\n",
        "housing_num_prepared[:2].round(2)"
      ]
    },
    {
      "cell_type": "code",
      "execution_count": null,
      "metadata": {
        "id": "rwP034c7oyih"
      },
      "outputs": [],
      "source": [
        "# def monkey_patch_get_signature_names_out():\n",
        "#     \"\"\"Monkey patch some classes which did not handle get_feature_names_out()\n",
        "#        correctly in Scikit-Learn 1.0.*.\"\"\"\n",
        "#     from inspect import Signature, signature, Parameter\n",
        "#     import pandas as pd\n",
        "#     from sklearn.impute import SimpleImputer\n",
        "#     from sklearn.pipeline import make_pipeline, Pipeline\n",
        "#     from sklearn.preprocessing import FunctionTransformer, StandardScaler\n",
        "\n",
        "#     default_get_feature_names_out = StandardScaler.get_feature_names_out\n",
        "\n",
        "#     if not hasattr(SimpleImputer, \"get_feature_names_out\"):\n",
        "#       print(\"Monkey-patching SimpleImputer.get_feature_names_out()\")\n",
        "#       SimpleImputer.get_feature_names_out = default_get_feature_names_out\n",
        "\n",
        "#     if not hasattr(FunctionTransformer, \"get_feature_names_out\"):\n",
        "#         print(\"Monkey-patching FunctionTransformer.get_feature_names_out()\")\n",
        "#         orig_init = FunctionTransformer.__init__\n",
        "#         orig_sig = signature(orig_init)\n",
        "\n",
        "#         def __init__(*args, feature_names_out=None, **kwargs):\n",
        "#             orig_sig.bind(*args, **kwargs)\n",
        "#             orig_init(*args, **kwargs)\n",
        "#             args[0].feature_names_out = feature_names_out\n",
        "\n",
        "#         __init__.__signature__ = Signature(\n",
        "#             list(signature(orig_init).parameters.values()) + [\n",
        "#                 Parameter(\"feature_names_out\", Parameter.KEYWORD_ONLY)])\n",
        "\n",
        "#         def get_feature_names_out(self, names=None):\n",
        "#             if callable(self.feature_names_out):\n",
        "#                 return self.feature_names_out(self, names)\n",
        "#             assert self.feature_names_out == \"one-to-one\"\n",
        "#             return default_get_feature_names_out(self, names)\n",
        "\n",
        "#         FunctionTransformer.__init__ = __init__\n",
        "#         FunctionTransformer.get_feature_names_out = get_feature_names_out\n",
        "\n",
        "# monkey_patch_get_signature_names_out()"
      ]
    },
    {
      "cell_type": "code",
      "execution_count": null,
      "metadata": {
        "id": "Lky9z3vCoyii"
      },
      "outputs": [],
      "source": [
        "df_housing_num_prepared = pd.DataFrame(\n",
        "    housing_num_prepared, columns=num_pipeline.get_feature_names_out(),\n",
        "    index=housing_num.index)"
      ]
    },
    {
      "cell_type": "code",
      "execution_count": null,
      "metadata": {
        "colab": {
          "base_uri": "https://localhost:8080/",
          "height": 112
        },
        "id": "dKg49gG8oyii",
        "outputId": "24ac4691-b931-46ff-e9c4-35980e3837ab"
      },
      "outputs": [],
      "source": [
        "df_housing_num_prepared.head(2)  # 추가 코드"
      ]
    },
    {
      "cell_type": "code",
      "execution_count": null,
      "metadata": {
        "colab": {
          "base_uri": "https://localhost:8080/"
        },
        "id": "Zf4MR7A5oyii",
        "outputId": "45da29d1-0978-4d5e-9a23-c98143d5e098"
      },
      "outputs": [],
      "source": [
        "num_pipeline.steps"
      ]
    },
    {
      "cell_type": "code",
      "execution_count": null,
      "metadata": {
        "colab": {
          "base_uri": "https://localhost:8080/",
          "height": 75
        },
        "id": "PHdNiaproyii",
        "outputId": "4e5bc03d-0661-4101-ebfa-461e06489793"
      },
      "outputs": [],
      "source": [
        "num_pipeline[1]"
      ]
    },
    {
      "cell_type": "code",
      "execution_count": null,
      "metadata": {
        "colab": {
          "base_uri": "https://localhost:8080/",
          "height": 92
        },
        "id": "Xo4OJCeEoyij",
        "outputId": "b40b0cab-4ac8-4d9f-ccf5-99c75f6214bf"
      },
      "outputs": [],
      "source": [
        "num_pipeline[:-1]"
      ]
    },
    {
      "cell_type": "code",
      "execution_count": null,
      "metadata": {
        "colab": {
          "base_uri": "https://localhost:8080/",
          "height": 75
        },
        "id": "tPKrUuvEoyij",
        "outputId": "1cec667f-1284-4097-ad17-277f098dd6ec"
      },
      "outputs": [],
      "source": [
        "num_pipeline.named_steps[\"simpleimputer\"]"
      ]
    },
    {
      "cell_type": "code",
      "execution_count": null,
      "metadata": {
        "colab": {
          "base_uri": "https://localhost:8080/",
          "height": 126
        },
        "id": "UrqfDmt0oyij",
        "outputId": "be362c55-3fb5-4f22-a1ce-011ee97dab93"
      },
      "outputs": [],
      "source": [
        "num_pipeline.set_params(simpleimputer__strategy=\"median\")"
      ]
    },
    {
      "cell_type": "code",
      "execution_count": null,
      "metadata": {
        "id": "X6EG5zIIoyij"
      },
      "outputs": [],
      "source": [
        "# ColumnTransformer\n"
      ]
    },
    {
      "cell_type": "code",
      "execution_count": null,
      "metadata": {
        "id": "c9v4lpvWoyik"
      },
      "outputs": [],
      "source": [
        "# make_column_transformer()"
      ]
    },
    {
      "cell_type": "code",
      "execution_count": null,
      "metadata": {
        "id": "tRw2xABToyik"
      },
      "outputs": [],
      "source": [
        "housing_prepared = preprocessing.fit_transform(housing)"
      ]
    },
    {
      "cell_type": "code",
      "execution_count": null,
      "metadata": {
        "colab": {
          "base_uri": "https://localhost:8080/",
          "height": 167
        },
        "id": "QjAwLVfuoyik",
        "outputId": "632b3b2f-9c42-480a-beec-aa3299763102"
      },
      "outputs": [],
      "source": [
        "# 추가 코드 – 필요하다면 데이터프레임으로 만들 수 있습니다\n",
        "housing_prepared_fr = pd.DataFrame(\n",
        "    housing_prepared,\n",
        "    columns=preprocessing.get_feature_names_out(),\n",
        "    index=housing.index)\n",
        "housing_prepared_fr.head(2)"
      ]
    },
    {
      "cell_type": "code",
      "execution_count": null,
      "metadata": {
        "id": "seyWKlyjoyim"
      },
      "outputs": [],
      "source": [
        "# 완변한 파이프라인 (슬라이드 83)\n"
      ]
    },
    {
      "cell_type": "code",
      "execution_count": null,
      "metadata": {
        "colab": {
          "base_uri": "https://localhost:8080/"
        },
        "id": "FNiHC8rioyim",
        "outputId": "6ff9f65c-a3ff-4c0d-8316-8e62bfc0cc26"
      },
      "outputs": [],
      "source": [
        "housing_prepared = preprocessing.fit_transform(housing)\n",
        "housing_prepared.shape"
      ]
    },
    {
      "cell_type": "code",
      "execution_count": null,
      "metadata": {
        "colab": {
          "base_uri": "https://localhost:8080/"
        },
        "id": "nh-PDgsRoyim",
        "outputId": "ee8630f0-e7f1-428f-e678-25057e547651"
      },
      "outputs": [],
      "source": [
        "preprocessing.get_feature_names_out()"
      ]
    },
    {
      "cell_type": "markdown",
      "metadata": {
        "id": "RWIX34Exoyim"
      },
      "source": [
        "# 2.6 모델 선택과 훈련"
      ]
    },
    {
      "cell_type": "markdown",
      "metadata": {
        "id": "Vz9FAazboyim"
      },
      "source": [
        "## 2.6.1 훈련 세트에서 훈련하고 평가하기"
      ]
    },
    {
      "cell_type": "code",
      "execution_count": null,
      "metadata": {
        "colab": {
          "base_uri": "https://localhost:8080/",
          "height": 262
        },
        "id": "55nWo7tVoyin",
        "outputId": "71f956da-92b8-438a-e1ef-5aa5cca03261"
      },
      "outputs": [],
      "source": [
        "# LinearRegression"
      ]
    },
    {
      "cell_type": "markdown",
      "metadata": {
        "id": "E-2c14Wxoyin"
      },
      "source": [
        "Let's try the full preprocessing pipeline on a few training instances:"
      ]
    },
    {
      "cell_type": "code",
      "execution_count": null,
      "metadata": {
        "colab": {
          "base_uri": "https://localhost:8080/"
        },
        "id": "GEsKVIR0oyin",
        "outputId": "211cc119-1fc2-48bb-c2ac-a7cc62b2b2b0"
      },
      "outputs": [],
      "source": [
        "housing_predictions = lin_reg.predict(housing)\n",
        "housing_predictions[:5].round(-2)  # -2 = 십의 자리에서 반올림"
      ]
    },
    {
      "cell_type": "markdown",
      "metadata": {
        "id": "bndByftwoyin"
      },
      "source": [
        "실제 값과 비교합니다:"
      ]
    },
    {
      "cell_type": "code",
      "execution_count": null,
      "metadata": {
        "colab": {
          "base_uri": "https://localhost:8080/"
        },
        "id": "uR4D-uvkoyin",
        "outputId": "67b904b1-cb30-484a-822e-89dd3987b9c7"
      },
      "outputs": [],
      "source": [
        "housing_labels.iloc[:5].values"
      ]
    },
    {
      "cell_type": "code",
      "execution_count": null,
      "metadata": {
        "colab": {
          "base_uri": "https://localhost:8080/"
        },
        "id": "0zIk8F9foyio",
        "outputId": "5eb1e95f-00fc-4ba0-e6c5-d50d7f1ba04c"
      },
      "outputs": [],
      "source": [
        "# 추가 코드 – 책에서 언급한 에러 비율을 계산합니다\n",
        "error_ratios = housing_predictions[:5].round(-2) / housing_labels.iloc[:5].values - 1\n",
        "print(\", \".join([f\"{100 * ratio:.1f}%\" for ratio in error_ratios]))"
      ]
    },
    {
      "cell_type": "code",
      "execution_count": null,
      "metadata": {
        "colab": {
          "base_uri": "https://localhost:8080/"
        },
        "id": "YZlNgjCaoyio",
        "outputId": "d3719506-4abf-49d5-c26f-ca9e85dc15fc"
      },
      "outputs": [],
      "source": [
        "# mean_squared_error (슬라이드 86)"
      ]
    },
    {
      "cell_type": "code",
      "execution_count": null,
      "metadata": {
        "colab": {
          "base_uri": "https://localhost:8080/",
          "height": 262
        },
        "id": "_I3GskCkoyio",
        "outputId": "7443bd60-3dfc-4c4f-86cb-c6de42113183"
      },
      "outputs": [],
      "source": [
        "# DecisionTreeRegressor\n"
      ]
    },
    {
      "cell_type": "code",
      "execution_count": null,
      "metadata": {
        "colab": {
          "base_uri": "https://localhost:8080/"
        },
        "id": "eSgjzGS9oyio",
        "outputId": "8dc1df4a-cc95-4ab1-993a-525e7dfa67d6"
      },
      "outputs": [],
      "source": [
        "housing_predictions = tree_reg.predict(housing)\n",
        "tree_rmse = mean_squared_error(housing_labels, housing_predictions,\n",
        "                              squared=False)\n",
        "tree_rmse"
      ]
    },
    {
      "cell_type": "markdown",
      "metadata": {
        "id": "ckqpr90Poyio"
      },
      "source": [
        "## 2.6.2 교차 검증을 사용한 평가"
      ]
    },
    {
      "cell_type": "code",
      "execution_count": null,
      "metadata": {
        "id": "NBM77WoWoyip"
      },
      "outputs": [],
      "source": [
        "# cross_val_score"
      ]
    },
    {
      "cell_type": "code",
      "execution_count": null,
      "metadata": {
        "colab": {
          "base_uri": "https://localhost:8080/"
        },
        "id": "WOaDgK56oyip",
        "outputId": "4db7933e-9d96-4d8d-8b30-2ad6de3784d5"
      },
      "outputs": [],
      "source": [
        "pd.Series(tree_rmses).describe()"
      ]
    },
    {
      "cell_type": "code",
      "execution_count": null,
      "metadata": {
        "colab": {
          "base_uri": "https://localhost:8080/"
        },
        "id": "CiXbdazyoyip",
        "outputId": "80fd1ec8-ba94-4ed3-a921-4e171b774d5e"
      },
      "outputs": [],
      "source": [
        "# 추가 코드 – 선형 모델의 점수를 계산합니다\n",
        "lin_rmses = -cross_val_score(lin_reg, housing, housing_labels,\n",
        "                              scoring=\"neg_root_mean_squared_error\", cv=10)\n",
        "pd.Series(lin_rmses).describe()"
      ]
    },
    {
      "cell_type": "markdown",
      "metadata": {
        "id": "0N4F5JGyoyip"
      },
      "source": [
        "**경고:** 다음 셀은 실행하는데 몇 분이 걸릴 수 있습니다:"
      ]
    },
    {
      "cell_type": "code",
      "execution_count": null,
      "metadata": {
        "id": "0vR_37o8oyip"
      },
      "outputs": [],
      "source": [
        "# RandomForestRegressor\n"
      ]
    },
    {
      "cell_type": "code",
      "execution_count": null,
      "metadata": {
        "colab": {
          "base_uri": "https://localhost:8080/"
        },
        "id": "owf0FFA4oyiq",
        "outputId": "a8c4bea0-4875-4f8d-d338-4296f8e88878"
      },
      "outputs": [],
      "source": [
        "pd.Series(forest_rmses).describe()"
      ]
    },
    {
      "cell_type": "markdown",
      "metadata": {
        "id": "nMZ7IQfNoyiq"
      },
      "source": [
        "교차 검증으로 측정한 RMSE(검증 에러)와 훈련 세트로 측정한 RMSE(훈련 에러)를 비교해 보죠:"
      ]
    },
    {
      "cell_type": "code",
      "execution_count": null,
      "metadata": {
        "colab": {
          "base_uri": "https://localhost:8080/"
        },
        "id": "kJhhkQnloyiq",
        "outputId": "d49128cf-024c-418d-f6d9-8d03e2a21ae4"
      },
      "outputs": [],
      "source": [
        "forest_reg.fit(housing, housing_labels)\n",
        "housing_predictions = forest_reg.predict(housing)\n",
        "forest_rmse = mean_squared_error(housing_labels, housing_predictions,\n",
        "                                 squared=False)\n",
        "forest_rmse"
      ]
    },
    {
      "cell_type": "markdown",
      "metadata": {
        "id": "Xv3hhqYAoyiq"
      },
      "source": [
        "훈련 에러가 검증 에러 보다 훨씬 낮기 때문에 모델이 훈련 세트에 과대적합되었다는 의미입니다. 가능한 또 다른 이유는 훈련 데이터와 검증 데이터의 불일치입니다. 여기서는 한 데이터 셋을 섞은 다음 두 부분으로 나누었기 때문에 이 경우에 해당하지 않습니다."
      ]
    },
    {
      "cell_type": "markdown",
      "metadata": {
        "id": "NaRVQmgioyiq"
      },
      "source": [
        "# 2.7 모델 미세 튜닝"
      ]
    },
    {
      "cell_type": "markdown",
      "metadata": {
        "id": "bP3AUl_poyiq"
      },
      "source": [
        "## 2.7.1 그리드 탐색"
      ]
    },
    {
      "cell_type": "markdown",
      "metadata": {
        "id": "RO7LS0bQoyir"
      },
      "source": [
        "**경고:**  다음 셀은 실행하는데 몇 분이 걸릴 수 있습니다:"
      ]
    },
    {
      "cell_type": "code",
      "execution_count": null,
      "metadata": {
        "colab": {
          "base_uri": "https://localhost:8080/",
          "height": 288
        },
        "id": "inT5e04Ooyir",
        "outputId": "c6cbdfa0-9b21-4f41-fd82-0693bd876f75"
      },
      "outputs": [],
      "source": [
        "# GridSearchCV\n"
      ]
    },
    {
      "cell_type": "markdown",
      "metadata": {
        "id": "0VIv8SkToyir"
      },
      "source": [
        "`full_pipeline.get_params().keys()`를 사용해 전체 하이퍼파라미터 리스트를 얻을 수 있습니다:"
      ]
    },
    {
      "cell_type": "code",
      "execution_count": null,
      "metadata": {
        "colab": {
          "base_uri": "https://localhost:8080/"
        },
        "id": "3OAKwWYDoyir",
        "outputId": "4cdd4500-d383-4439-f75f-e8c5bf84b6be"
      },
      "outputs": [],
      "source": [
        "# 추가 코드 – get_params().keys() 출력의 일부를 보여 줍니다\n",
        "print(str(full_pipeline.get_params().keys())[:1000] + \"...\")"
      ]
    },
    {
      "cell_type": "markdown",
      "metadata": {
        "id": "XHm9Wh8Noyir"
      },
      "source": [
        "최상의 하이퍼파라미터 조합은 다음과 같습니다:"
      ]
    },
    {
      "cell_type": "code",
      "execution_count": null,
      "metadata": {
        "colab": {
          "base_uri": "https://localhost:8080/"
        },
        "id": "UX1J9YSsoyir",
        "outputId": "e2ce86ff-ff0e-4762-9eae-c36a3e59af48"
      },
      "outputs": [],
      "source": [
        "grid_search.best_params_"
      ]
    },
    {
      "cell_type": "code",
      "execution_count": null,
      "metadata": {
        "colab": {
          "base_uri": "https://localhost:8080/",
          "height": 262
        },
        "id": "n_vXyA6ooyit",
        "outputId": "676e3582-16fb-4fc8-9562-861a75a558ba"
      },
      "outputs": [],
      "source": [
        "grid_search.best_estimator_"
      ]
    },
    {
      "cell_type": "markdown",
      "metadata": {
        "id": "DTcJL9wkoyit"
      },
      "source": [
        "그리드 탐색에서 테스트한 하이퍼파라미터 조합의 점수를 확인해 보죠:"
      ]
    },
    {
      "cell_type": "code",
      "execution_count": null,
      "metadata": {
        "colab": {
          "base_uri": "https://localhost:8080/",
          "height": 206
        },
        "id": "o6lcZdGwoyit",
        "outputId": "e98df8b2-1d17-4e74-a04f-2c05918796f7"
      },
      "outputs": [],
      "source": [
        "cv_res = pd.DataFrame(grid_search.cv_results_)\n",
        "cv_res.sort_values(by=\"mean_test_score\", ascending=False, inplace=True)\n",
        "\n",
        "# 추가 코드 – 데이터프레임을 깔끔하게 출력하기 위한 코드입니다\n",
        "cv_res = cv_res[[\"param_preprocessing__geo__n_clusters\",\n",
        "                 \"param_random_forest__max_features\", \"split0_test_score\",\n",
        "                 \"split1_test_score\", \"split2_test_score\", \"mean_test_score\"]]\n",
        "score_cols = [\"split0\", \"split1\", \"split2\", \"mean_test_rmse\"]\n",
        "cv_res.columns = [\"n_clusters\", \"max_features\"] + score_cols\n",
        "cv_res[score_cols] = -cv_res[score_cols].round().astype(np.int64)\n",
        "\n",
        "cv_res.head()"
      ]
    },
    {
      "cell_type": "markdown",
      "metadata": {
        "id": "HrcDnRGdoyit"
      },
      "source": [
        "## 2.7.2 랜덤 탐색"
      ]
    },
    {
      "cell_type": "code",
      "execution_count": null,
      "metadata": {
        "id": "MaPTdosLoyiu"
      },
      "outputs": [],
      "source": [
        "from sklearn.experimental import enable_halving_search_cv\n",
        "from sklearn.model_selection import HalvingRandomSearchCV"
      ]
    },
    {
      "cell_type": "markdown",
      "metadata": {
        "id": "vJWMgWKhoyiu"
      },
      "source": [
        "30개(`n_iter` × `cv`)의 랜덤한 하이퍼파라미터 조합을 시도합니다:"
      ]
    },
    {
      "cell_type": "markdown",
      "metadata": {
        "id": "vZtakWMVoyiu"
      },
      "source": [
        "**경고:**  다음 셀은 실행하는데 몇 분이 걸릴 수 있습니다:"
      ]
    },
    {
      "cell_type": "code",
      "execution_count": null,
      "metadata": {
        "colab": {
          "base_uri": "https://localhost:8080/",
          "height": 288
        },
        "id": "f1LBy4o7oyiu",
        "outputId": "b136182e-0edc-49c4-e70c-104b2055e106"
      },
      "outputs": [],
      "source": [
        "# RandomizedSearchCV\n"
      ]
    },
    {
      "cell_type": "code",
      "execution_count": null,
      "metadata": {
        "colab": {
          "base_uri": "https://localhost:8080/",
          "height": 313
        },
        "id": "_NSFRYQaoyiv",
        "outputId": "f5385b08-acb3-44f8-a6c6-27a92311d808"
      },
      "outputs": [],
      "source": [
        "# 추가 코드 – 랜덤 탐색 결과를 출력합니다\n",
        "cv_res = pd.DataFrame(rnd_search.cv_results_)\n",
        "cv_res.sort_values(by=\"mean_test_score\", ascending=False, inplace=True)\n",
        "cv_res = cv_res[[\"param_preprocessing__geo__n_clusters\",\n",
        "                 \"param_random_forest__max_features\", \"split0_test_score\",\n",
        "                 \"split1_test_score\", \"split2_test_score\", \"mean_test_score\"]]\n",
        "cv_res.columns = [\"n_clusters\", \"max_features\"] + score_cols\n",
        "cv_res[score_cols] = -cv_res[score_cols].round().astype(np.int64)\n",
        "cv_res.head()"
      ]
    },
    {
      "cell_type": "markdown",
      "metadata": {
        "id": "F4ZhMlBWoyiv"
      },
      "source": [
        "**보너스 섹션: 하이퍼파라미터를 위한 샘플링 분포 선택 방법**\n",
        "\n",
        "* `scipy.stats.randint(a, b+1)`: a~b 사이의 _이산적인_ 값을 가진 하이퍼파라미터. 이 범위의 모든 값은 동일한 확률 가집니다.\n",
        "* `scipy.stats.uniform(a, b)`: 매우 비슷하지만 _연속적인_ 파라미터에 사용합니다.\n",
        "* `scipy.stats.geom(1 / scale)`: 이산적인 값의 경우 주어진 스케일 안에서 샘플링하고 싶을 때 사용합니다. 예를 들어 scale=1000인 경우 대부분의 샘플은 이 범주 안에 있지만 모든 샘플 중 10% 정도는 100보다 작고, 10% 정도는 2300보다 큽니다.\n",
        "* `scipy.stats.expon(scale)`: `geom`의 연속적인 버전입니다. `scale`을 가장 많이 등장할 값으로 지정합니다.\n",
        "* `scipy.stats.loguniform(a, b)`: 하이퍼파라미터 값의 스케일을 어떻게 지정할지 모를 때 사용합니다. a=0.01, b=100으로 지정하면 0.01과 0.1 사이의 샘플링과 10과 100 사이의 샘플링 비율이 동일합니다."
      ]
    },
    {
      "cell_type": "markdown",
      "metadata": {
        "id": "nUjxaEkGoyiv"
      },
      "source": [
        "다음은 `randint()`, `uniform()`, `geom()`, `expon()`에 대한 확률 질량 함수(이산형 변수)와 확률 밀도 함수(연속형 변수)의 그래프입니다:"
      ]
    },
    {
      "cell_type": "code",
      "execution_count": null,
      "metadata": {
        "colab": {
          "base_uri": "https://localhost:8080/",
          "height": 629
        },
        "id": "T8rfuXXZoyiv",
        "outputId": "91b5182f-0a76-49ab-88cb-ef2dbf746c08",
        "tags": []
      },
      "outputs": [],
      "source": [
        "# 추가 코드 – 랜덤 서치에서 사용할 수 있는 몇가지 분포에 대한 그래프\n",
        "\n",
        "from scipy.stats import randint, uniform, geom, expon\n",
        "\n",
        "xs1 = np.arange(0, 7 + 1)\n",
        "randint_distrib = randint(0, 7 + 1).pmf(xs1)\n",
        "\n",
        "xs2 = np.linspace(0, 7, 500)\n",
        "uniform_distrib = uniform(0, 7).pdf(xs2)\n",
        "\n",
        "xs3 = np.arange(0, 7 + 1)\n",
        "geom_distrib = geom(0.5).pmf(xs3)\n",
        "\n",
        "xs4 = np.linspace(0, 7, 500)\n",
        "expon_distrib = expon(scale=1).pdf(xs4)\n",
        "\n",
        "plt.figure(figsize=(12, 7))\n",
        "\n",
        "plt.subplot(2, 2, 1)\n",
        "plt.bar(xs1, randint_distrib, label=\"scipy.randint(0, 7 + 1)\")\n",
        "plt.ylabel(\"Probability\")\n",
        "plt.legend()\n",
        "plt.axis([-1, 8, 0, 0.2])\n",
        "\n",
        "plt.subplot(2, 2, 2)\n",
        "plt.fill_between(xs2, uniform_distrib, label=\"scipy.uniform(0, 7)\")\n",
        "plt.ylabel(\"PDF\")\n",
        "plt.legend()\n",
        "plt.axis([-1, 8, 0, 0.2])\n",
        "\n",
        "plt.subplot(2, 2, 3)\n",
        "plt.bar(xs3, geom_distrib, label=\"scipy.geom(0.5)\")\n",
        "plt.xlabel(\"Hyperparameter value\")\n",
        "plt.ylabel(\"Probability\")\n",
        "plt.legend()\n",
        "plt.axis([0, 7, 0, 1])\n",
        "\n",
        "plt.subplot(2, 2, 4)\n",
        "plt.fill_between(xs4, expon_distrib, label=\"scipy.expon(scale=1)\")\n",
        "plt.xlabel(\"Hyperparameter value\")\n",
        "plt.ylabel(\"PDF\")\n",
        "plt.legend()\n",
        "plt.axis([0, 7, 0, 1])\n",
        "\n",
        "plt.show()"
      ]
    },
    {
      "cell_type": "markdown",
      "metadata": {
        "id": "c4hprW9Goyiw"
      },
      "source": [
        "다음은 `expon()`와 `loguniform()`의 확률 밀도 함수(왼쪽 열), log(X)의 확률 밀도 함수(오른쪽 열)입니다. 오른쪽 열은 하이퍼파라미터 스케일의 분포를 보여줍니다. `expon()`는 대체적으로 원하는 스케일을 따라 하이퍼파라미터를 선택하고 작은 스케일 쪽으로는 긴 꼬리를 형성합니다. 하지만 `loguniform()`는 스케일에 영향을 받지 않고 모두 동일한 확률을 가집니다:"
      ]
    },
    {
      "cell_type": "code",
      "execution_count": null,
      "metadata": {
        "colab": {
          "base_uri": "https://localhost:8080/",
          "height": 629
        },
        "id": "itEV5ba_oyiw",
        "outputId": "62056898-7e7b-44fb-95a7-e18a6835d11a",
        "tags": []
      },
      "outputs": [],
      "source": [
        "# 추가 코드 – expon와 loguniform의 차이를 보여줍니다\n",
        "\n",
        "from scipy.stats import loguniform\n",
        "\n",
        "xs1 = np.linspace(0, 7, 500)\n",
        "expon_distrib = expon(scale=1).pdf(xs1)\n",
        "\n",
        "log_xs2 = np.linspace(-5, 3, 500)\n",
        "log_expon_distrib = np.exp(log_xs2 - np.exp(log_xs2))\n",
        "\n",
        "xs3 = np.linspace(0.001, 1000, 500)\n",
        "loguniform_distrib = loguniform(0.001, 1000).pdf(xs3)\n",
        "\n",
        "log_xs4 = np.linspace(np.log(0.001), np.log(1000), 500)\n",
        "log_loguniform_distrib = uniform(np.log(0.001), np.log(1000)).pdf(log_xs4)\n",
        "\n",
        "plt.figure(figsize=(12, 7))\n",
        "\n",
        "plt.subplot(2, 2, 1)\n",
        "plt.fill_between(xs1, expon_distrib,\n",
        "                 label=\"scipy.expon(scale=1)\")\n",
        "plt.ylabel(\"PDF\")\n",
        "plt.legend()\n",
        "plt.axis([0, 7, 0, 1])\n",
        "\n",
        "plt.subplot(2, 2, 2)\n",
        "plt.fill_between(log_xs2, log_expon_distrib,\n",
        "                 label=\"log(X) with X ~ expon\")\n",
        "plt.legend()\n",
        "plt.axis([-5, 3, 0, 1])\n",
        "\n",
        "plt.subplot(2, 2, 3)\n",
        "plt.fill_between(xs3, loguniform_distrib,\n",
        "                 label=\"scipy.loguniform(0.001, 1000)\")\n",
        "plt.xlabel(\"Hyperparameter value\")\n",
        "plt.ylabel(\"PDF\")\n",
        "plt.legend()\n",
        "plt.axis([0.001, 1000, 0, 0.005])\n",
        "\n",
        "plt.subplot(2, 2, 4)\n",
        "plt.fill_between(log_xs4, log_loguniform_distrib,\n",
        "                 label=\"log(X) with X ~ loguniform\")\n",
        "plt.xlabel(\"Log of hyperparameter value\")\n",
        "plt.legend()\n",
        "plt.axis([-8, 1, 0, 0.2])\n",
        "\n",
        "plt.show()"
      ]
    },
    {
      "cell_type": "markdown",
      "metadata": {
        "id": "glaIVWl5oyiw"
      },
      "source": [
        "## 2.7.4 최상의 모델과 오차 분석"
      ]
    },
    {
      "cell_type": "code",
      "execution_count": null,
      "metadata": {
        "colab": {
          "base_uri": "https://localhost:8080/"
        },
        "id": "py6MmvN1oyiw",
        "outputId": "15a3ab07-261c-432c-8faa-635a7b617cad"
      },
      "outputs": [],
      "source": [
        "# final_model = ..."
      ]
    },
    {
      "cell_type": "code",
      "execution_count": null,
      "metadata": {
        "colab": {
          "base_uri": "https://localhost:8080/"
        },
        "id": "ssJVlluioyix",
        "outputId": "bab907c9-2468-4a95-d067-93fbda876517"
      },
      "outputs": [],
      "source": [
        "# sorted()"
      ]
    },
    {
      "cell_type": "markdown",
      "metadata": {
        "id": "0m7_Hmp8oyix"
      },
      "source": [
        "## 2.7.5 테스트 세트로 시스템 평가하기"
      ]
    },
    {
      "cell_type": "code",
      "execution_count": null,
      "metadata": {
        "colab": {
          "base_uri": "https://localhost:8080/"
        },
        "id": "ZtNaHMCdoyix",
        "outputId": "6ee74020-95fe-42c7-d0e1-3414234414b1"
      },
      "outputs": [],
      "source": [
        "# X_test = ...\n",
        "# y_test = ..."
      ]
    },
    {
      "cell_type": "markdown",
      "metadata": {
        "id": "6ObARwugoyix"
      },
      "source": [
        "테스트 RMSE에 대한 95% 신뢰 구간을 계산합니다:"
      ]
    },
    {
      "cell_type": "code",
      "execution_count": null,
      "metadata": {
        "colab": {
          "base_uri": "https://localhost:8080/"
        },
        "id": "EHIvRHzEoyix",
        "outputId": "6d8f46a0-299b-461d-8e40-947a4fee5216"
      },
      "outputs": [],
      "source": [
        "# from scipy import stats\n"
      ]
    },
    {
      "cell_type": "markdown",
      "metadata": {
        "id": "DxgUjAZIoyiy"
      },
      "source": [
        "다음과 같이 수동으로 계산할 수도 있습니다:"
      ]
    },
    {
      "cell_type": "code",
      "execution_count": null,
      "metadata": {
        "colab": {
          "base_uri": "https://localhost:8080/"
        },
        "id": "MD9WUEnFoyiy",
        "outputId": "b8e4a7e9-715c-48b9-9f99-e71455b45b59"
      },
      "outputs": [],
      "source": [
        "# 추가 코드 – RMSE에 대한 신뢰 구간 계산 방법\n",
        "m = len(squared_errors)\n",
        "mean = squared_errors.mean()\n",
        "tscore = stats.t.ppf((1 + confidence) / 2, df=m - 1)\n",
        "tmargin = tscore * squared_errors.std(ddof=1) / np.sqrt(m)\n",
        "np.sqrt(mean - tmargin), np.sqrt(mean + tmargin)"
      ]
    },
    {
      "cell_type": "markdown",
      "metadata": {
        "id": "H5b4ybwgoyiy"
      },
      "source": [
        "또한 t-점수 대신 z-점수를 사용할 수 있습니다. 테스트 세트가 너무 작지 않기 때문에 큰 차이가 없습니다:"
      ]
    },
    {
      "cell_type": "code",
      "execution_count": null,
      "metadata": {
        "colab": {
          "base_uri": "https://localhost:8080/"
        },
        "id": "CsG2p0R2oyiy",
        "outputId": "223ab98b-f96f-4911-b201-c41272ddf786"
      },
      "outputs": [],
      "source": [
        "# 추가 코드 – z-점수를 사용해 신뢰 구간 계산하기\n",
        "zscore = stats.norm.ppf((1 + confidence) / 2)\n",
        "zmargin = zscore * squared_errors.std(ddof=1) / np.sqrt(m)\n",
        "np.sqrt(mean - zmargin), np.sqrt(mean + zmargin)"
      ]
    },
    {
      "cell_type": "markdown",
      "metadata": {
        "id": "uLWp219joyiy"
      },
      "source": [
        "## 2.8 `joblib`를 사용한 모델 저장"
      ]
    },
    {
      "cell_type": "markdown",
      "metadata": {
        "id": "FT4cboTPoyiy"
      },
      "source": [
        "최종 모델을 저장합니다:"
      ]
    },
    {
      "cell_type": "code",
      "execution_count": null,
      "metadata": {
        "colab": {
          "base_uri": "https://localhost:8080/"
        },
        "id": "zPpTQx1ooyiz",
        "outputId": "87dc7d1b-148a-4a2f-a4ef-1b1681fc6cd2"
      },
      "outputs": [],
      "source": [
        "# joblib.dump()\n"
      ]
    },
    {
      "cell_type": "markdown",
      "metadata": {
        "id": "UHC9Poamoyiz"
      },
      "source": [
        "이제 모델을 제품 환경에 배포할 수 있습니다. 예를 들어, 제품 환경에서 실행하기 위한 스크립트는 다음과 같을 것입니다:"
      ]
    },
    {
      "cell_type": "code",
      "execution_count": null,
      "metadata": {
        "id": "eV6VyUUGoyiz"
      },
      "outputs": [],
      "source": [
        "# joblib.load()\n"
      ]
    },
    {
      "cell_type": "code",
      "execution_count": null,
      "metadata": {
        "colab": {
          "base_uri": "https://localhost:8080/"
        },
        "id": "GBGI5lA0oyiz",
        "outputId": "80cea98b-c2a3-469a-cb90-2c1f2b736c08"
      },
      "outputs": [],
      "source": [
        "predictions"
      ]
    },
    {
      "cell_type": "markdown",
      "metadata": {
        "id": "g4BcYOneoyi1"
      },
      "source": [
        "`pickle`을 사용할 수도 있지만 `joblib`이 더 효율적입니다."
      ]
    },
    {
      "cell_type": "markdown",
      "metadata": {
        "id": "5OXqhKsyoyi1"
      },
      "source": [
        "# 연습문제 해답"
      ]
    },
    {
      "cell_type": "markdown",
      "metadata": {
        "id": "eiQECvWmoyi1"
      },
      "source": [
        "## 1."
      ]
    },
    {
      "cell_type": "markdown",
      "metadata": {
        "id": "xVpAQY6toyi2"
      },
      "source": [
        "문제: _서포트 벡터 머신 회귀(`sklearn.svm.SVR`)를 `kernel=“linear”`(하이퍼파라미터 `C`를 바꿔가며)나 `kernel=“rbf”`(하이퍼파라미터 `C`와 `gamma`를 바꿔가며) 등의 다양한 하이퍼파라미터 설정으로 시도해보세요. 서포트 벡터 머신은 대용량 데이터셋에 적용하기가 쉽지 않습니다. 따라서 훈련 세트의 처음 5,000개 샘플만 사용해 모델을 훈련하고 3-겹 교차 검증을 사용하세요. 그렇지 않으면 몇 시간이 걸릴 것입니다. 지금은 이 하이퍼파라미터가 무엇을 의미하는지 너무 신경 쓰지 마세요(궁금하다면 5장 노트북을 참고하세요). 최상의 `SVR` 모델은 무엇인가요?_"
      ]
    },
    {
      "cell_type": "code",
      "execution_count": null,
      "metadata": {
        "colab": {
          "base_uri": "https://localhost:8080/",
          "height": 288
        },
        "id": "v2R5wFL0oyi2",
        "outputId": "303dc7a1-f58e-4034-f126-61e7a411793b"
      },
      "outputs": [],
      "source": [
        "from sklearn.model_selection import GridSearchCV\n",
        "from sklearn.svm import SVR\n",
        "\n",
        "param_grid = [\n",
        "        {'svr__kernel': ['linear'], 'svr__C': [10., 30., 100., 300., 1000.,\n",
        "                                               3000., 10000., 30000.0]},\n",
        "        {'svr__kernel': ['rbf'], 'svr__C': [1.0, 3.0, 10., 30., 100., 300.,\n",
        "                                            1000.0],\n",
        "         'svr__gamma': [0.01, 0.03, 0.1, 0.3, 1.0, 3.0]},\n",
        "    ]\n",
        "\n",
        "svr_pipeline = Pipeline([(\"preprocessing\", preprocessing), (\"svr\", SVR())])\n",
        "grid_search = GridSearchCV(svr_pipeline, param_grid, cv=3,\n",
        "                           scoring='neg_root_mean_squared_error')\n",
        "grid_search.fit(housing.iloc[:5000], housing_labels.iloc[:5000])"
      ]
    },
    {
      "cell_type": "markdown",
      "metadata": {
        "id": "xFbXMeKzoyi2"
      },
      "source": [
        "(3-겹 교차 검증을 사용해 평가한) 최상의 모델이 달성한 점수는 다음과 같습니다:"
      ]
    },
    {
      "cell_type": "code",
      "execution_count": null,
      "metadata": {
        "colab": {
          "base_uri": "https://localhost:8080/"
        },
        "id": "-I2ICuovoyi2",
        "outputId": "9edf5d8d-a5d2-4f86-a92a-4e517ba337a5"
      },
      "outputs": [],
      "source": [
        "svr_grid_search_rmse = -grid_search.best_score_\n",
        "svr_grid_search_rmse"
      ]
    },
    {
      "cell_type": "markdown",
      "metadata": {
        "id": "tBmW_D8Doyi2"
      },
      "source": [
        "`RandomForestRegressor`보다 훨씬 좋지 않네요(하지만 훨씬 적은 데이터로 훈련했습니다). 최상의 하이퍼파라미터를 확인해 보죠:"
      ]
    },
    {
      "cell_type": "code",
      "execution_count": null,
      "metadata": {
        "colab": {
          "base_uri": "https://localhost:8080/"
        },
        "id": "YJGIT8Dzoyi2",
        "outputId": "128a2d9e-7ea7-4c60-e665-bd865c55530d"
      },
      "outputs": [],
      "source": [
        "grid_search.best_params_"
      ]
    },
    {
      "cell_type": "markdown",
      "metadata": {
        "id": "lihWFDbdoyi3"
      },
      "source": [
        "선형 커널이 RBF 커널보다 성능이 나은 것 같습니다. `C`는 테스트한 것 중에 최대값이 선택되었습니다. 따라서 (작은 값들은 지우고) 더 큰 값의 `C`로 그리드서치를 다시 실행해 보아야 합니다. 아마도 더 큰 값의 `C`에서 성능이 높아질 것입니다."
      ]
    },
    {
      "cell_type": "markdown",
      "metadata": {
        "id": "TnB8bD6coyi3"
      },
      "source": [
        "## 2."
      ]
    },
    {
      "cell_type": "markdown",
      "metadata": {
        "id": "sZw-K9hCoyi3"
      },
      "source": [
        "문제: _`GridSearchCV`를 `RandomizedSearchCV`로 바꿔보세요._"
      ]
    },
    {
      "cell_type": "markdown",
      "metadata": {
        "id": "1L5VQYVRoyi3"
      },
      "source": [
        "**경고**: 다음 셀은 실행하는데 몇 분이 걸립니다. `RandomizedSearchCV`를 만들 때 `verbose=2`로 지정하면 훈련 상세 과정을 볼 수 있습니다."
      ]
    },
    {
      "cell_type": "code",
      "execution_count": null,
      "metadata": {
        "colab": {
          "base_uri": "https://localhost:8080/",
          "height": 288
        },
        "id": "pxSe35Mmoyi3",
        "outputId": "34031d44-de41-44d8-c5bd-331f9085e06c"
      },
      "outputs": [],
      "source": [
        "from sklearn.model_selection import RandomizedSearchCV\n",
        "from scipy.stats import expon, loguniform\n",
        "\n",
        "# `expon()`, `loguniform()`와 다른 확률 분포 함수에 대해서는\n",
        "# https://docs.scipy.org/doc/scipy/reference/stats.html 참조하세요.\n",
        "\n",
        "# 노트: 커널이 \"linear\"일 때 gamma는 무시됩니다\n",
        "param_distribs = {\n",
        "        'svr__kernel': ['linear', 'rbf'],\n",
        "        'svr__C': loguniform(20, 200_000),\n",
        "        'svr__gamma': expon(scale=1.0),\n",
        "    }\n",
        "\n",
        "rnd_search = RandomizedSearchCV(svr_pipeline,\n",
        "                                param_distributions=param_distribs,\n",
        "                                n_iter=50, cv=3,\n",
        "                                scoring='neg_root_mean_squared_error',\n",
        "                                random_state=42)\n",
        "rnd_search.fit(housing.iloc[:5000], housing_labels.iloc[:5000])"
      ]
    },
    {
      "cell_type": "markdown",
      "metadata": {
        "id": "NBgItgxcoyi4"
      },
      "source": [
        "(3-겹 교차 검증을 사용해 평가한) 최상의 모델이 달성한 점수는 다음과 같습니다:"
      ]
    },
    {
      "cell_type": "code",
      "execution_count": null,
      "metadata": {
        "colab": {
          "base_uri": "https://localhost:8080/"
        },
        "id": "pnWM0kmOoyi4",
        "outputId": "cdf3498d-7686-433f-ae17-ab8c297643bb"
      },
      "outputs": [],
      "source": [
        "svr_rnd_search_rmse = -rnd_search.best_score_\n",
        "svr_rnd_search_rmse"
      ]
    },
    {
      "cell_type": "markdown",
      "metadata": {
        "id": "yoWYczm-oyi4"
      },
      "source": [
        "훨씬 좋아졌지만 아직 `RandomForestRegressor`의 성능에는 못미칩니다. 최상의 하이퍼파라미터를 확인해 보죠:"
      ]
    },
    {
      "cell_type": "code",
      "execution_count": null,
      "metadata": {
        "colab": {
          "base_uri": "https://localhost:8080/"
        },
        "id": "xQg6JQbFoyi4",
        "outputId": "be2aeb03-5687-426b-e303-ba35a3ddefcb"
      },
      "outputs": [],
      "source": [
        "rnd_search.best_params_"
      ]
    },
    {
      "cell_type": "markdown",
      "metadata": {
        "id": "eJp30ajeoyi4"
      },
      "source": [
        "이번에는 RBF 커널에 대해 최적의 하이퍼파라미터 조합을 찾았습니다. 보통 랜덤 서치가 같은 시간안에 그리드 서치보다 더 좋은 하이퍼파라미터를 찾습니다."
      ]
    },
    {
      "cell_type": "markdown",
      "metadata": {
        "id": "EwbdjB7aoyi5"
      },
      "source": [
        "`gamma`에 대해 스케일이 1인 `expon()`을 사용했기 때문에 `RandomSearch`가 대체적으로 이 스케일의 값에 대해 탐색합니다. 샘플의 80%는 0.1과 2.3 사이에 있습니다(약 10%는 더 작은 값이고 약 10%는 더 큰 값이 됩니다):"
      ]
    },
    {
      "cell_type": "code",
      "execution_count": null,
      "metadata": {
        "colab": {
          "base_uri": "https://localhost:8080/"
        },
        "id": "Gja12Q6Uoyi5",
        "outputId": "0a51f3bb-26c7-438a-cf4c-ad00fd055ff9"
      },
      "outputs": [],
      "source": [
        "np.random.seed(42)\n",
        "\n",
        "s = expon(scale=1).rvs(100_000)  # 100,000개 샘플을 얻습니다\n",
        "((s > 0.105) & (s < 2.29)).sum() / 100_000"
      ]
    },
    {
      "cell_type": "markdown",
      "metadata": {
        "id": "uLKoSs9Ooyi5"
      },
      "source": [
        "`C`에 대해 `loguniform()` 분포를 사용했습니다. 이는 랜덤 서치를 수행하기 전에 `C`의 최적 값에 대한 단서가 없다는 의미입니다. 이 함수는 20에서 200까지 범위와 2,000에서 20,000까지 범위를 동일한 비율로 탐색합니다."
      ]
    },
    {
      "cell_type": "markdown",
      "metadata": {
        "id": "kAcGka7Koyi5"
      },
      "source": [
        "## 3."
      ]
    },
    {
      "cell_type": "markdown",
      "metadata": {
        "id": "Tmz4XIn-oyi5"
      },
      "source": [
        "질문: _가장 중요한 특성을 선택하는 `SelectFromModel` 변환기를 준비 파이프라인에 추가해보세요._"
      ]
    },
    {
      "cell_type": "markdown",
      "metadata": {
        "id": "c3XzWALLoyi5"
      },
      "source": [
        "이전에 정의한 전처리 파이프라인 다음과 최종 회귀 모델 전에 `RandomForestRegressor` 기반의 `SelectFromModel` 변환기를 추가하는 파이프라인을 만들어 보죠:"
      ]
    },
    {
      "cell_type": "code",
      "execution_count": null,
      "metadata": {
        "id": "6KQfX6Bloyi5"
      },
      "outputs": [],
      "source": [
        "from sklearn.feature_selection import SelectFromModel\n",
        "\n",
        "selector_pipeline = Pipeline([\n",
        "    ('preprocessing', preprocessing),\n",
        "    ('selector', SelectFromModel(RandomForestRegressor(random_state=42),\n",
        "                                 threshold=0.005)),  # min feature importance\n",
        "    ('svr', SVR(C=rnd_search.best_params_[\"svr__C\"],\n",
        "                gamma=rnd_search.best_params_[\"svr__gamma\"],\n",
        "                kernel=rnd_search.best_params_[\"svr__kernel\"])),\n",
        "])"
      ]
    },
    {
      "cell_type": "code",
      "execution_count": null,
      "metadata": {
        "colab": {
          "base_uri": "https://localhost:8080/"
        },
        "id": "ZCO5ZpO3oyi6",
        "outputId": "86fec654-01a0-4d7c-a746-3b2a58156d94"
      },
      "outputs": [],
      "source": [
        "selector_rmses = -cross_val_score(selector_pipeline,\n",
        "                                  housing.iloc[:5000],\n",
        "                                  housing_labels.iloc[:5000],\n",
        "                                  scoring=\"neg_root_mean_squared_error\",\n",
        "                                  cv=3)\n",
        "pd.Series(selector_rmses).describe()"
      ]
    },
    {
      "cell_type": "markdown",
      "metadata": {
        "id": "ZwtwOSEMoyi6"
      },
      "source": [
        "흠, 특성 선택이 큰 도움이 되지 않는 것 같군요. 하지만 임곗값이 최적이 아니기 때문일지도 모릅니다. 랜덤 서치나 그리드 서치로 이 값을 튜닝해 보면 어떨까요?"
      ]
    },
    {
      "cell_type": "markdown",
      "metadata": {
        "id": "PemXyn07oyi6"
      },
      "source": [
        "## 4."
      ]
    },
    {
      "cell_type": "markdown",
      "metadata": {
        "id": "yY-emKP6oyi6"
      },
      "source": [
        "문제: _`fit()` 메서드 안에서 k-최근접 이웃 회귀(`sklearn.neighbors.KNeighborsRegressor`)를 훈련하고 `transform()` 메서드에서 이 모델의 예측을 반환하는 사용자 정의 변환기를 만들어 보세요. 이 변환기의 입력으로 위도와 경도를 사용하고 예측 결과를 하나의 특성으로 전처리 파이프라인에 추가하세요. 이렇게 하면 가장 가까운 구역의 중간 주택 가격에 대한 특성이 모델에 추가됩니다._"
      ]
    },
    {
      "cell_type": "markdown",
      "metadata": {
        "id": "lcK1daNEoyi6"
      },
      "source": [
        "k-최근접 이웃 회귀에 국한하지 말고 어떤 회귀 모델도 받을 수 있는 변환기를 만들어 보죠. 이를 위해 `MetaEstimatorMixin`를 상속하고 생성자에서 `estimator` 매개변수를 받습니다. `fit()` 메서드는 이 추정기를 복사해서 사용하고 `feature_names_in_`를 저장해야 합니다. `MetaEstimatorMixin`는 필수 매개변수로 `estimator`가 전달되었는지 확인하고 추정기의 하이퍼파라미터를 튜닝에 사용가능하도록 `get_params()`와 `set_params()`를 업데이트합니다. 마지막으로 `get_feature_names_out()` 메서드를 만듭니다."
      ]
    },
    {
      "cell_type": "code",
      "execution_count": null,
      "metadata": {
        "id": "_h_gaeLioyi6"
      },
      "outputs": [],
      "source": [
        "from sklearn.neighbors import KNeighborsRegressor\n",
        "from sklearn.base import MetaEstimatorMixin, clone\n",
        "\n",
        "class FeatureFromRegressor(MetaEstimatorMixin, BaseEstimator, TransformerMixin):\n",
        "    def __init__(self, estimator):\n",
        "        self.estimator = estimator\n",
        "\n",
        "    def fit(self, X, y=None):\n",
        "        estimator_ = clone(self.estimator)\n",
        "        estimator_.fit(X, y)\n",
        "        self.estimator_ = estimator_\n",
        "        self.n_features_in_ = self.estimator_.n_features_in_\n",
        "        if hasattr(self.estimator, \"feature_names_in_\"):\n",
        "            self.feature_names_in_ = self.estimator.feature_names_in_\n",
        "        return self  # 항상 self를 반환해야 합니다!\n",
        "\n",
        "    def transform(self, X):\n",
        "        check_is_fitted(self)\n",
        "        predictions = self.estimator_.predict(X)\n",
        "        if predictions.ndim == 1:\n",
        "            predictions = predictions.reshape(-1, 1)\n",
        "        return predictions\n",
        "\n",
        "    def get_feature_names_out(self, names=None):\n",
        "        check_is_fitted(self)\n",
        "        n_outputs = getattr(self.estimator_, \"n_outputs_\", 1)\n",
        "        estimator_class_name = self.estimator_.__class__.__name__\n",
        "        estimator_short_name = estimator_class_name.lower().replace(\"_\", \"\")\n",
        "        return [f\"{estimator_short_name}_prediction_{i}\"\n",
        "                for i in range(n_outputs)]"
      ]
    },
    {
      "cell_type": "markdown",
      "metadata": {
        "id": "HA0cWTD3oyi7"
      },
      "source": [
        "사이킷런 API를 준수하는지 확인해 보죠:"
      ]
    },
    {
      "cell_type": "code",
      "execution_count": null,
      "metadata": {
        "id": "Kd1Jk-pjoyi8"
      },
      "outputs": [],
      "source": [
        "from sklearn.utils.estimator_checks import check_estimator\n",
        "\n",
        "check_estimator(FeatureFromRegressor(KNeighborsRegressor()))"
      ]
    },
    {
      "cell_type": "markdown",
      "metadata": {
        "id": "-b9LVMnxoyi8"
      },
      "source": [
        "좋네요! 이제 테스트해 보죠:"
      ]
    },
    {
      "cell_type": "code",
      "execution_count": null,
      "metadata": {
        "colab": {
          "base_uri": "https://localhost:8080/"
        },
        "id": "BUO4xYjeoyi8",
        "outputId": "00f16df8-8e2b-44da-dd82-1fb7c32e063f"
      },
      "outputs": [],
      "source": [
        "knn_reg = KNeighborsRegressor(n_neighbors=3, weights=\"distance\")\n",
        "knn_transformer = FeatureFromRegressor(knn_reg)\n",
        "geo_features = housing[[\"latitude\", \"longitude\"]]\n",
        "knn_transformer.fit_transform(geo_features, housing_labels)"
      ]
    },
    {
      "cell_type": "markdown",
      "metadata": {
        "id": "T4XUvPPIoyi9"
      },
      "source": [
        "출력 특성의 이름이 어떻게 나오나요?"
      ]
    },
    {
      "cell_type": "code",
      "execution_count": null,
      "metadata": {
        "colab": {
          "base_uri": "https://localhost:8080/"
        },
        "id": "-ODAT9p4oyi9",
        "outputId": "82e37631-4148-430f-941b-dc228d716206"
      },
      "outputs": [],
      "source": [
        "knn_transformer.get_feature_names_out()"
      ]
    },
    {
      "cell_type": "markdown",
      "metadata": {
        "id": "RExcyKY7oyi9"
      },
      "source": [
        "좋습니다. 이제 이 변환기를 전처리 파이프라인에 추가해 보겠습니다:"
      ]
    },
    {
      "cell_type": "code",
      "execution_count": null,
      "metadata": {
        "id": "339mZYd9oyi9"
      },
      "outputs": [],
      "source": [
        "from sklearn.base import clone\n",
        "\n",
        "transformers = [(name, clone(transformer), columns)\n",
        "                for name, transformer, columns in preprocessing.transformers]\n",
        "geo_index = [name for name, _, _ in transformers].index(\"geo\")\n",
        "transformers[geo_index] = (\"geo\", knn_transformer, [\"latitude\", \"longitude\"])\n",
        "\n",
        "new_geo_preprocessing = ColumnTransformer(transformers)"
      ]
    },
    {
      "cell_type": "code",
      "execution_count": null,
      "metadata": {
        "id": "EJAKjoaUoyjB"
      },
      "outputs": [],
      "source": [
        "new_geo_pipeline = Pipeline([\n",
        "    ('preprocessing', new_geo_preprocessing),\n",
        "    ('svr', SVR(C=rnd_search.best_params_[\"svr__C\"],\n",
        "                gamma=rnd_search.best_params_[\"svr__gamma\"],\n",
        "                kernel=rnd_search.best_params_[\"svr__kernel\"])),\n",
        "])"
      ]
    },
    {
      "cell_type": "code",
      "execution_count": null,
      "metadata": {
        "colab": {
          "base_uri": "https://localhost:8080/"
        },
        "id": "Ip51KFK1oyjB",
        "outputId": "b949bbfb-ba44-4b6a-dd3d-3a9d850d5af3"
      },
      "outputs": [],
      "source": [
        "new_pipe_rmses = -cross_val_score(new_geo_pipeline,\n",
        "                                  housing.iloc[:5000],\n",
        "                                  housing_labels.iloc[:5000],\n",
        "                                  scoring=\"neg_root_mean_squared_error\",\n",
        "                                  cv=3)\n",
        "pd.Series(new_pipe_rmses).describe()"
      ]
    },
    {
      "cell_type": "markdown",
      "metadata": {
        "id": "mSCQJrkHoyjB"
      },
      "source": [
        "이런 아주 않좋군요! 확실히 클러스터 유사도 특성이 훨씬 좋습니다. `KNeighborsRegressor` 하이퍼파라미터를 튜닝해야 할까요? 이것이 다음 연습문제입니다."
      ]
    },
    {
      "cell_type": "markdown",
      "metadata": {
        "id": "DWjrbhlNoyjC"
      },
      "source": [
        "## 5."
      ]
    },
    {
      "cell_type": "markdown",
      "metadata": {
        "id": "oh2qiP2DoyjC"
      },
      "source": [
        "문제: _`GridSearchCV`를 사용해 준비 단계의 옵션을 자동으로 탐색해보세요._"
      ]
    },
    {
      "cell_type": "code",
      "execution_count": null,
      "metadata": {
        "colab": {
          "base_uri": "https://localhost:8080/",
          "height": 288
        },
        "id": "3G-XmqJnoyjC",
        "outputId": "8d4ed6b7-e59c-4056-c027-ac54d0427245"
      },
      "outputs": [],
      "source": [
        "param_distribs = {\n",
        "    \"preprocessing__geo__estimator__n_neighbors\": range(1, 30),\n",
        "    \"preprocessing__geo__estimator__weights\": [\"distance\", \"uniform\"],\n",
        "    \"svr__C\": loguniform(20, 200_000),\n",
        "    \"svr__gamma\": expon(scale=1.0),\n",
        "}\n",
        "\n",
        "new_geo_rnd_search = RandomizedSearchCV(new_geo_pipeline,\n",
        "                                        param_distributions=param_distribs,\n",
        "                                        n_iter=50,\n",
        "                                        cv=3,\n",
        "                                        scoring='neg_root_mean_squared_error',\n",
        "                                        random_state=42)\n",
        "new_geo_rnd_search.fit(housing.iloc[:5000], housing_labels.iloc[:5000])"
      ]
    },
    {
      "cell_type": "code",
      "execution_count": null,
      "metadata": {
        "colab": {
          "base_uri": "https://localhost:8080/"
        },
        "id": "aE6kqsuqoyjC",
        "outputId": "54e1b99b-a74a-4964-ad8b-814d16424671"
      },
      "outputs": [],
      "source": [
        "new_geo_rnd_search_rmse = -new_geo_rnd_search.best_score_\n",
        "new_geo_rnd_search_rmse"
      ]
    },
    {
      "cell_type": "markdown",
      "metadata": {
        "id": "icmzBvCloyjC"
      },
      "source": [
        "음.. 적어도 시도는 했네요! 클러스터 유사도 특성이 확실히 KNN 특성보다 나은 것 같습니다. 하지만 둘 다 시도해 보면 어떨까요? 전체 훈련 세트로 훈련하면 도움이 될 수도 있습니다."
      ]
    },
    {
      "cell_type": "markdown",
      "metadata": {
        "id": "OdrAvW2xoyjC"
      },
      "source": [
        "## 6."
      ]
    },
    {
      "cell_type": "markdown",
      "metadata": {
        "id": "XbqpQU6UoyjC"
      },
      "source": [
        "문제: _6. `StandardScalerClone` 클래스를 처음부터 다시 구현하세요. 그다음 `inverse_transform()` 메서드를 추가하세요. `scaler.\n",
        "inverse_transform(scaler.fit_transform(X))`를 호출하면 `X`에 매우 가까운 배열을 반환해야 합니다. 그다음 특성 이름을 지원하는 기능을 추가하세요. 입력이 데이터프레임이면 `fit()` 메서드에서 `feature_names_in_`를 설정합니다. 이 속성은 특성 이름의 넘파이 배열입니다. 마지막으로 `get_feature_names_out()` 메서드를 구현하세요. 이 메서드는 선택적인 매개변수 `input_features=None`을 가집니다. 매개변수 값이 전달되면 길이가 `n_features_in_`과 같은지 확인하고 값이 `feature_names_in_`과 같은지 확인해야 합니다. 그다음 `input_features`를 반환해야 합니다. `input_features`가 `None`인 경우 `feature_names_in_`가 정의되어 있다면 이를 반환하고 그렇지 않으면 `n_features_in_` 길이의 `np.array([\"x0\", \"x1\", ...])` 배열을 반환합니다._"
      ]
    },
    {
      "cell_type": "code",
      "execution_count": null,
      "metadata": {
        "id": "-QjLnz2AoyjD"
      },
      "outputs": [],
      "source": [
        "from sklearn.base import BaseEstimator, TransformerMixin\n",
        "from sklearn.utils.validation import check_array, check_is_fitted\n",
        "\n",
        "class StandardScalerClone(BaseEstimator, TransformerMixin):\n",
        "    def __init__(self, with_mean=True):  # *args나 **kwargs를 사용하지 않습니다!\n",
        "        self.with_mean = with_mean\n",
        "\n",
        "    def fit(self, X, y=None):  # y는 사용하지 않더라고 필수입니다\n",
        "        X_orig = X\n",
        "        X = check_array(X)  # X가 부동소수 배열인지 확인합니다\n",
        "        self.mean_ = X.mean(axis=0)\n",
        "        self.scale_ = X.std(axis=0)\n",
        "        self.n_features_in_ = X.shape[1]  # 모든 추정기는 fit()에서 이를 저장해야 합니다\n",
        "        if hasattr(X_orig, \"columns\"):\n",
        "            self.feature_names_in_ = np.array(X_orig.columns, dtype=object)\n",
        "        return self  # 항상 self를 반환합니다!\n",
        "\n",
        "    def transform(self, X):\n",
        "        check_is_fitted(self)  #  (_가 붙은) 학습된 속성을 확인합니다\n",
        "        X = check_array(X)\n",
        "        if self.n_features_in_ != X.shape[1]:\n",
        "            raise ValueError(\"Unexpected number of features\")\n",
        "        if self.with_mean:\n",
        "            X = X - self.mean_\n",
        "        return X / self.scale_\n",
        "\n",
        "    def inverse_transform(self, X):\n",
        "        check_is_fitted(self)\n",
        "        X = check_array(X)\n",
        "        if self.n_features_in_ != X.shape[1]:\n",
        "            raise ValueError(\"Unexpected number of features\")\n",
        "        X = X * self.scale_\n",
        "        return X + self.mean_ if self.with_mean else X\n",
        "\n",
        "    def get_feature_names_out(self, input_features=None):\n",
        "        if input_features is None:\n",
        "            return getattr(self, \"feature_names_in_\",\n",
        "                           [f\"x{i}\" for i in range(self.n_features_in_)])\n",
        "        else:\n",
        "            if len(input_features) != self.n_features_in_:\n",
        "                raise ValueError(\"Invalid number of features\")\n",
        "            if hasattr(self, \"feature_names_in_\") and not np.all(\n",
        "                self.feature_names_in_ == input_features\n",
        "            ):\n",
        "                raise ValueError(\"input_features ≠ feature_names_in_\")\n",
        "            return input_features"
      ]
    },
    {
      "cell_type": "markdown",
      "metadata": {
        "id": "LAP7SU4woyjD"
      },
      "source": [
        "사용자 정의 변환기를 테스트해 보죠:"
      ]
    },
    {
      "cell_type": "code",
      "execution_count": null,
      "metadata": {
        "id": "GGE6cLtWoyjD"
      },
      "outputs": [],
      "source": [
        "from sklearn.utils.estimator_checks import check_estimator\n",
        "\n",
        "check_estimator(StandardScalerClone())"
      ]
    },
    {
      "cell_type": "markdown",
      "metadata": {
        "id": "dqxMNO1LoyjD"
      },
      "source": [
        "에러가 없습니다. 시작이 좋네요. 사이킷런 API를 준수했습니다."
      ]
    },
    {
      "cell_type": "markdown",
      "metadata": {
        "id": "MxGuhgtPoyjD"
      },
      "source": [
        "이제 이 변환기가 기대한 대로 동작하는지 확인해 보겠습니다:"
      ]
    },
    {
      "cell_type": "code",
      "execution_count": null,
      "metadata": {
        "id": "WH60vuNgoyjD"
      },
      "outputs": [],
      "source": [
        "np.random.seed(42)\n",
        "X = np.random.rand(1000, 3)\n",
        "\n",
        "scaler = StandardScalerClone()\n",
        "X_scaled = scaler.fit_transform(X)\n",
        "\n",
        "assert np.allclose(X_scaled, (X - X.mean(axis=0)) / X.std(axis=0))"
      ]
    },
    {
      "cell_type": "markdown",
      "metadata": {
        "id": "i93vofI_oyjD"
      },
      "source": [
        "`with_mean=False`로 지정하면 어떨까요?"
      ]
    },
    {
      "cell_type": "code",
      "execution_count": null,
      "metadata": {
        "id": "B1tj_p7KoyjE"
      },
      "outputs": [],
      "source": [
        "scaler = StandardScalerClone(with_mean=False)\n",
        "X_scaled_uncentered = scaler.fit_transform(X)\n",
        "\n",
        "assert np.allclose(X_scaled_uncentered, X / X.std(axis=0))"
      ]
    },
    {
      "cell_type": "markdown",
      "metadata": {
        "id": "K-jL-z3HoyjE"
      },
      "source": [
        "거꾸로 변환하는 것은 잘 될까요?"
      ]
    },
    {
      "cell_type": "code",
      "execution_count": null,
      "metadata": {
        "id": "yxXDZ7vAoyjE"
      },
      "outputs": [],
      "source": [
        "scaler = StandardScalerClone()\n",
        "X_back = scaler.inverse_transform(scaler.fit_transform(X))\n",
        "\n",
        "assert np.allclose(X, X_back)"
      ]
    },
    {
      "cell_type": "markdown",
      "metadata": {
        "id": "_6puKxDQoyjE"
      },
      "source": [
        "특성 이름 출력은 잘 되나요?"
      ]
    },
    {
      "cell_type": "code",
      "execution_count": null,
      "metadata": {
        "id": "lgBhIA1OoyjE"
      },
      "outputs": [],
      "source": [
        "assert np.all(scaler.get_feature_names_out() == [\"x0\", \"x1\", \"x2\"])\n",
        "assert np.all(scaler.get_feature_names_out([\"a\", \"b\", \"c\"]) == [\"a\", \"b\", \"c\"])"
      ]
    },
    {
      "cell_type": "markdown",
      "metadata": {
        "id": "xpbs2p_VoyjE"
      },
      "source": [
        "데이터프레임으로 훈련했을때 입력과 출력이 잘 되나요?"
      ]
    },
    {
      "cell_type": "code",
      "execution_count": null,
      "metadata": {
        "id": "UU6Zh8dUoyjE"
      },
      "outputs": [],
      "source": [
        "df = pd.DataFrame({\"a\": np.random.rand(100), \"b\": np.random.rand(100)})\n",
        "scaler = StandardScalerClone()\n",
        "X_scaled = scaler.fit_transform(df)\n",
        "\n",
        "assert np.all(scaler.feature_names_in_ == [\"a\", \"b\"])\n",
        "assert np.all(scaler.get_feature_names_out() == [\"a\", \"b\"])"
      ]
    },
    {
      "cell_type": "markdown",
      "metadata": {
        "id": "mlNqpY64oyjE"
      },
      "source": [
        "모두 성공입니다! 오늘은 여기까지 입니다! 😀"
      ]
    },
    {
      "cell_type": "markdown",
      "metadata": {
        "id": "pFpkpmw1oyjF"
      },
      "source": [
        "축하합니다! 이제 머신러닝에 대해 꽤 많은 것을 알게 되었습니다. :)"
      ]
    }
  ],
  "metadata": {
    "colab": {
      "provenance": []
    },
    "kernelspec": {
      "display_name": "Python 3 (ipykernel)",
      "language": "python",
      "name": "python3"
    },
    "language_info": {
      "codemirror_mode": {
        "name": "ipython",
        "version": 3
      },
      "file_extension": ".py",
      "mimetype": "text/x-python",
      "name": "python",
      "nbconvert_exporter": "python",
      "pygments_lexer": "ipython3",
      "version": "3.12.1"
    },
    "nav_menu": {
      "height": "279px",
      "width": "309px"
    },
    "toc": {
      "nav_menu": {},
      "number_sections": true,
      "sideBar": true,
      "skip_h1_title": false,
      "toc_cell": false,
      "toc_position": {},
      "toc_section_display": "block",
      "toc_window_display": false
    }
  },
  "nbformat": 4,
  "nbformat_minor": 0
}
